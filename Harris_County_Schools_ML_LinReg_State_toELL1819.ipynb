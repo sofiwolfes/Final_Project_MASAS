{
 "cells": [
  {
   "cell_type": "code",
   "execution_count": 1,
   "id": "b5660d20",
   "metadata": {},
   "outputs": [],
   "source": [
    "#Import environment and libraries\n",
    "import pandas as pd\n",
    "from pathlib import Path\n",
    "import matplotlib.pyplot as plt\n",
    "from sklearn.linear_model import LinearRegression"
   ]
  },
  {
   "cell_type": "code",
   "execution_count": 2,
   "id": "d7f0c1b6",
   "metadata": {},
   "outputs": [
    {
     "data": {
      "text/html": [
       "<div>\n",
       "<style scoped>\n",
       "    .dataframe tbody tr th:only-of-type {\n",
       "        vertical-align: middle;\n",
       "    }\n",
       "\n",
       "    .dataframe tbody tr th {\n",
       "        vertical-align: top;\n",
       "    }\n",
       "\n",
       "    .dataframe thead th {\n",
       "        text-align: right;\n",
       "    }\n",
       "</style>\n",
       "<table border=\"1\" class=\"dataframe\">\n",
       "  <thead>\n",
       "    <tr style=\"text-align: right;\">\n",
       "      <th></th>\n",
       "      <th>Primary_Key_2018_2019</th>\n",
       "      <th>School_Name</th>\n",
       "      <th>Grade_Test_Type</th>\n",
       "      <th>Mastery_Level</th>\n",
       "      <th>Baseline_Year</th>\n",
       "      <th>Compared_Year</th>\n",
       "      <th>YOY_State_2019</th>\n",
       "      <th>YOY_Region_2019</th>\n",
       "      <th>YOY_District_2019</th>\n",
       "      <th>YOY_African_American_2019</th>\n",
       "      <th>YoY_Hispanic_2019</th>\n",
       "      <th>YoY_White_2019</th>\n",
       "      <th>YoY_Econ_Disadv_2019</th>\n",
       "      <th>YoY_ELL_2019</th>\n",
       "    </tr>\n",
       "  </thead>\n",
       "  <tbody>\n",
       "    <tr>\n",
       "      <th>0</th>\n",
       "      <td>_Grade 3 Mathematics_At Approaches Grade Level...</td>\n",
       "      <td>NaN</td>\n",
       "      <td>Grade 3 Mathematics</td>\n",
       "      <td>At Approaches Grade Level or Above</td>\n",
       "      <td>2018</td>\n",
       "      <td>2019</td>\n",
       "      <td>0.01</td>\n",
       "      <td>0.00</td>\n",
       "      <td>-0.030</td>\n",
       "      <td>0.080</td>\n",
       "      <td>-0.100</td>\n",
       "      <td>-0.02</td>\n",
       "      <td>-0.04</td>\n",
       "      <td>-0.11</td>\n",
       "    </tr>\n",
       "    <tr>\n",
       "      <th>1</th>\n",
       "      <td>_Grade 3 Mathematics_At Meets Grade Level or A...</td>\n",
       "      <td>NaN</td>\n",
       "      <td>Grade 3 Mathematics</td>\n",
       "      <td>At Meets Grade Level or Above</td>\n",
       "      <td>2018</td>\n",
       "      <td>2019</td>\n",
       "      <td>0.02</td>\n",
       "      <td>0.01</td>\n",
       "      <td>-0.030</td>\n",
       "      <td>0.001</td>\n",
       "      <td>-0.100</td>\n",
       "      <td>0.12</td>\n",
       "      <td>-0.02</td>\n",
       "      <td>-0.02</td>\n",
       "    </tr>\n",
       "    <tr>\n",
       "      <th>2</th>\n",
       "      <td>_Grade 3 Mathematics_At Masters Grade Level_2019</td>\n",
       "      <td>NaN</td>\n",
       "      <td>Grade 3 Mathematics</td>\n",
       "      <td>At Masters Grade Level</td>\n",
       "      <td>2018</td>\n",
       "      <td>2019</td>\n",
       "      <td>0.02</td>\n",
       "      <td>0.01</td>\n",
       "      <td>-0.050</td>\n",
       "      <td>-0.070</td>\n",
       "      <td>-0.030</td>\n",
       "      <td>-0.15</td>\n",
       "      <td>-0.06</td>\n",
       "      <td>-0.02</td>\n",
       "    </tr>\n",
       "    <tr>\n",
       "      <th>3</th>\n",
       "      <td>_Grade 3 Reading_At Meets Grade Level or Above...</td>\n",
       "      <td>NaN</td>\n",
       "      <td>Grade 3 Reading</td>\n",
       "      <td>At Meets Grade Level or Above</td>\n",
       "      <td>2018</td>\n",
       "      <td>2019</td>\n",
       "      <td>0.02</td>\n",
       "      <td>0.02</td>\n",
       "      <td>0.001</td>\n",
       "      <td>-0.060</td>\n",
       "      <td>0.001</td>\n",
       "      <td>-0.04</td>\n",
       "      <td>-0.01</td>\n",
       "      <td>-0.03</td>\n",
       "    </tr>\n",
       "    <tr>\n",
       "      <th>4</th>\n",
       "      <td>_Grade 3 Reading_At Masters Grade Level_2019</td>\n",
       "      <td>NaN</td>\n",
       "      <td>Grade 3 Reading</td>\n",
       "      <td>At Masters Grade Level</td>\n",
       "      <td>2018</td>\n",
       "      <td>2019</td>\n",
       "      <td>0.02</td>\n",
       "      <td>0.03</td>\n",
       "      <td>0.030</td>\n",
       "      <td>-0.040</td>\n",
       "      <td>0.070</td>\n",
       "      <td>0.02</td>\n",
       "      <td>0.04</td>\n",
       "      <td>0.05</td>\n",
       "    </tr>\n",
       "  </tbody>\n",
       "</table>\n",
       "</div>"
      ],
      "text/plain": [
       "                               Primary_Key_2018_2019 School_Name  \\\n",
       "0  _Grade 3 Mathematics_At Approaches Grade Level...         NaN   \n",
       "1  _Grade 3 Mathematics_At Meets Grade Level or A...         NaN   \n",
       "2   _Grade 3 Mathematics_At Masters Grade Level_2019         NaN   \n",
       "3  _Grade 3 Reading_At Meets Grade Level or Above...         NaN   \n",
       "4       _Grade 3 Reading_At Masters Grade Level_2019         NaN   \n",
       "\n",
       "       Grade_Test_Type                       Mastery_Level  Baseline_Year  \\\n",
       "0  Grade 3 Mathematics  At Approaches Grade Level or Above           2018   \n",
       "1  Grade 3 Mathematics       At Meets Grade Level or Above           2018   \n",
       "2  Grade 3 Mathematics              At Masters Grade Level           2018   \n",
       "3      Grade 3 Reading       At Meets Grade Level or Above           2018   \n",
       "4      Grade 3 Reading              At Masters Grade Level           2018   \n",
       "\n",
       "   Compared_Year  YOY_State_2019  YOY_Region_2019  YOY_District_2019  \\\n",
       "0           2019            0.01             0.00             -0.030   \n",
       "1           2019            0.02             0.01             -0.030   \n",
       "2           2019            0.02             0.01             -0.050   \n",
       "3           2019            0.02             0.02              0.001   \n",
       "4           2019            0.02             0.03              0.030   \n",
       "\n",
       "   YOY_African_American_2019  YoY_Hispanic_2019  YoY_White_2019  \\\n",
       "0                      0.080             -0.100           -0.02   \n",
       "1                      0.001             -0.100            0.12   \n",
       "2                     -0.070             -0.030           -0.15   \n",
       "3                     -0.060              0.001           -0.04   \n",
       "4                     -0.040              0.070            0.02   \n",
       "\n",
       "   YoY_Econ_Disadv_2019  YoY_ELL_2019  \n",
       "0                 -0.04         -0.11  \n",
       "1                 -0.02         -0.02  \n",
       "2                 -0.06         -0.02  \n",
       "3                 -0.01         -0.03  \n",
       "4                  0.04          0.05  "
      ]
     },
     "execution_count": 2,
     "metadata": {},
     "output_type": "execute_result"
    }
   ],
   "source": [
    "#Load CSV File as Pandas DataFrame & Preview DF\n",
    "df = pd.read_csv(Path('./YOY_1819_combined_csv.csv'))\n",
    "df.head()"
   ]
  },
  {
   "cell_type": "code",
   "execution_count": 3,
   "id": "00e233b2",
   "metadata": {},
   "outputs": [
    {
     "data": {
      "image/png": "[encoded data removed]",
      "text/plain": [
       "<Figure size 640x480 with 1 Axes>"
      ]
     },
     "metadata": {},
     "output_type": "display_data"
    }
   ],
   "source": [
    "#Inspect relationship between state scores & ELL scores\n",
    "plt.scatter(df.YOY_State_2019, df.YoY_ELL_2019)\n",
    "plt.xlabel('YOY_State_2019')\n",
    "plt.ylabel('YoY_ELL_2019')\n",
    "plt.show()"
   ]
  },
  {
   "cell_type": "code",
   "execution_count": 4,
   "id": "a133ff94",
   "metadata": {},
   "outputs": [],
   "source": [
    "#Format data to meet requirements of Scikit-learn library\n",
    "X = df.YOY_State_2019.values.reshape(-1, 1)"
   ]
  },
  {
   "cell_type": "code",
   "execution_count": 5,
   "id": "a47def76",
   "metadata": {},
   "outputs": [
    {
     "data": {
      "text/plain": [
       "array([[0.01],\n",
       "       [0.02],\n",
       "       [0.02],\n",
       "       [0.02],\n",
       "       [0.02]])"
      ]
     },
     "execution_count": 5,
     "metadata": {},
     "output_type": "execute_result"
    }
   ],
   "source": [
    "#Examine first five entries in X\n",
    "X[:5]"
   ]
  },
  {
   "cell_type": "code",
   "execution_count": 6,
   "id": "fd602648",
   "metadata": {},
   "outputs": [
    {
     "data": {
      "text/plain": [
       "(709, 1)"
      ]
     },
     "execution_count": 6,
     "metadata": {},
     "output_type": "execute_result"
    }
   ],
   "source": [
    "#Examine shape of X; 1506 samples, with a single feature (column)\n",
    "X.shape"
   ]
  },
  {
   "cell_type": "code",
   "execution_count": 7,
   "id": "563f4873",
   "metadata": {},
   "outputs": [],
   "source": [
    "#Assign target variable, or ELL column, to y\n",
    "y = df.YoY_ELL_2019"
   ]
  },
  {
   "cell_type": "code",
   "execution_count": 8,
   "id": "70219726",
   "metadata": {},
   "outputs": [],
   "source": [
    "#Create instance of the linear regression model. Instantiation means that LinearRegression class is like a template that contains the algorithms required to perform linear regression. From this template, a specific object called model is created that will analyze the data and store info specific to dataset.\n",
    "model = LinearRegression()"
   ]
  },
  {
   "cell_type": "code",
   "execution_count": 9,
   "id": "dad6c9dc",
   "metadata": {},
   "outputs": [
    {
     "data": {
      "text/plain": [
       "LinearRegression()"
      ]
     },
     "execution_count": 9,
     "metadata": {},
     "output_type": "execute_result"
    }
   ],
   "source": [
    "#Fit/Train Model, meaning analyze data and attempt to learn patterns\n",
    "model.fit(X, y)"
   ]
  },
  {
   "cell_type": "code",
   "execution_count": 10,
   "id": "76a93ed0",
   "metadata": {},
   "outputs": [
    {
     "name": "stdout",
     "output_type": "stream",
     "text": [
      "(709,)\n"
     ]
    }
   ],
   "source": [
    "#Use predict methos to generate predictions, given the district that a student is in, model will predict ELL scores.\n",
    "y_pred = model.predict(X)\n",
    "print(y_pred.shape)"
   ]
  },
  {
   "cell_type": "code",
   "execution_count": 11,
   "id": "1a2e304c",
   "metadata": {},
   "outputs": [
    {
     "data": {
      "image/png": "[encoded data removed]",
      "text/plain": [
       "<Figure size 640x480 with 1 Axes>"
      ]
     },
     "metadata": {},
     "output_type": "display_data"
    }
   ],
   "source": [
    "#Plot predictions with a red line against the data points\n",
    "plt.scatter(X, y)\n",
    "plt.plot(X, y_pred, color='red')\n",
    "plt.xlabel('YOY_State_2019')\n",
    "plt.ylabel('YoY_ELL_2019')\n",
    "plt.show()"
   ]
  },
  {
   "cell_type": "code",
   "execution_count": 12,
   "id": "11ff1427",
   "metadata": {},
   "outputs": [
    {
     "name": "stdout",
     "output_type": "stream",
     "text": [
      "[0.96562894]\n",
      "-0.009010910639480332\n"
     ]
    }
   ],
   "source": [
    "print(model.coef_)\n",
    "print(model.intercept_)"
   ]
  }
 ],
 "metadata": {
  "kernelspec": {
   "display_name": "mlenv",
   "language": "python",
   "name": "mlenv"
  },
  "language_info": {
   "codemirror_mode": {
    "name": "ipython",
    "version": 3
   },
   "file_extension": ".py",
   "mimetype": "text/x-python",
   "name": "python",
   "nbconvert_exporter": "python",
   "pygments_lexer": "ipython3",
   "version": "3.7.13"
  }
 },
 "nbformat": 4,
 "nbformat_minor": 5
}
