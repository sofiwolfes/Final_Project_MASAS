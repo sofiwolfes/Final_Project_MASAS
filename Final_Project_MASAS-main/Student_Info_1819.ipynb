{
 "cells": [
  {
   "cell_type": "code",
   "execution_count": 1,
   "id": "c2be34be",
   "metadata": {},
   "outputs": [],
   "source": [
    "import pandas as pd\n",
    "import os\n"
   ]
  },
  {
   "cell_type": "code",
   "execution_count": 2,
   "id": "94b23e80",
   "metadata": {},
   "outputs": [],
   "source": [
    "Class_Size_1819 = os.path.join(\"Class_Size_1819.csv\")"
   ]
  },
  {
   "cell_type": "code",
   "execution_count": 3,
   "id": "48955b28",
   "metadata": {
    "scrolled": false
   },
   "outputs": [
    {
     "data": {
      "text/html": [
       "<div>\n",
       "<style scoped>\n",
       "    .dataframe tbody tr th:only-of-type {\n",
       "        vertical-align: middle;\n",
       "    }\n",
       "\n",
       "    .dataframe tbody tr th {\n",
       "        vertical-align: top;\n",
       "    }\n",
       "\n",
       "    .dataframe thead th {\n",
       "        text-align: right;\n",
       "    }\n",
       "</style>\n",
       "<table border=\"1\" class=\"dataframe\">\n",
       "  <thead>\n",
       "    <tr style=\"text-align: right;\">\n",
       "      <th></th>\n",
       "      <th>Class Size Information</th>\n",
       "      <th>District Average</th>\n",
       "      <th>State Average</th>\n",
       "      <th>Unnamed: 3</th>\n",
       "      <th>Unnamed: 4</th>\n",
       "    </tr>\n",
       "  </thead>\n",
       "  <tbody>\n",
       "    <tr>\n",
       "      <th>0</th>\n",
       "      <td>Kindergarten</td>\n",
       "      <td>19.2</td>\n",
       "      <td>18.9</td>\n",
       "      <td>NaN</td>\n",
       "      <td>NaN</td>\n",
       "    </tr>\n",
       "    <tr>\n",
       "      <th>1</th>\n",
       "      <td>Grade 1</td>\n",
       "      <td>18.9</td>\n",
       "      <td>18.8</td>\n",
       "      <td>NaN</td>\n",
       "      <td>NaN</td>\n",
       "    </tr>\n",
       "    <tr>\n",
       "      <th>2</th>\n",
       "      <td>Grade 2</td>\n",
       "      <td>18.3</td>\n",
       "      <td>18.7</td>\n",
       "      <td>NaN</td>\n",
       "      <td>NaN</td>\n",
       "    </tr>\n",
       "    <tr>\n",
       "      <th>3</th>\n",
       "      <td>Grade 3</td>\n",
       "      <td>18.3</td>\n",
       "      <td>18.9</td>\n",
       "      <td>NaN</td>\n",
       "      <td>NaN</td>\n",
       "    </tr>\n",
       "    <tr>\n",
       "      <th>4</th>\n",
       "      <td>Grade 4</td>\n",
       "      <td>18.4</td>\n",
       "      <td>19.2</td>\n",
       "      <td>NaN</td>\n",
       "      <td>NaN</td>\n",
       "    </tr>\n",
       "  </tbody>\n",
       "</table>\n",
       "</div>"
      ],
      "text/plain": [
       "  Class Size Information  District Average  State Average  Unnamed: 3  \\\n",
       "0           Kindergarten              19.2           18.9         NaN   \n",
       "1                Grade 1              18.9           18.8         NaN   \n",
       "2                Grade 2              18.3           18.7         NaN   \n",
       "3                Grade 3              18.3           18.9         NaN   \n",
       "4                Grade 4              18.4           19.2         NaN   \n",
       "\n",
       "   Unnamed: 4  \n",
       "0         NaN  \n",
       "1         NaN  \n",
       "2         NaN  \n",
       "3         NaN  \n",
       "4         NaN  "
      ]
     },
     "execution_count": 3,
     "metadata": {},
     "output_type": "execute_result"
    }
   ],
   "source": [
    "Class_Size_1819= pd.read_csv(Class_Size_1819)\n",
    "Class_Size_1819.head()"
   ]
  },
  {
   "cell_type": "code",
   "execution_count": 4,
   "id": "3f8435a1",
   "metadata": {},
   "outputs": [
    {
     "data": {
      "text/plain": [
       "Class Size Information     object\n",
       "District Average          float64\n",
       "State Average             float64\n",
       "Unnamed: 3                float64\n",
       "Unnamed: 4                float64\n",
       "dtype: object"
      ]
     },
     "execution_count": 4,
     "metadata": {},
     "output_type": "execute_result"
    }
   ],
   "source": [
    "Class_Size_1819.dtypes"
   ]
  },
  {
   "cell_type": "code",
   "execution_count": 5,
   "id": "48ff2863",
   "metadata": {},
   "outputs": [],
   "source": [
    "Demographics_1819 = os.path.join(\"Demographics_1819.csv\")"
   ]
  },
  {
   "cell_type": "code",
   "execution_count": 6,
   "id": "402a4045",
   "metadata": {},
   "outputs": [
    {
     "data": {
      "text/html": [
       "<div>\n",
       "<style scoped>\n",
       "    .dataframe tbody tr th:only-of-type {\n",
       "        vertical-align: middle;\n",
       "    }\n",
       "\n",
       "    .dataframe tbody tr th {\n",
       "        vertical-align: top;\n",
       "    }\n",
       "\n",
       "    .dataframe thead th {\n",
       "        text-align: right;\n",
       "    }\n",
       "</style>\n",
       "<table border=\"1\" class=\"dataframe\">\n",
       "  <thead>\n",
       "    <tr style=\"text-align: right;\">\n",
       "      <th></th>\n",
       "      <th>Demographics</th>\n",
       "      <th>District Student Count</th>\n",
       "      <th>District Percentage of Total Students</th>\n",
       "      <th>State Student Count</th>\n",
       "      <th>State Percentage of Total Students</th>\n",
       "    </tr>\n",
       "  </thead>\n",
       "  <tbody>\n",
       "    <tr>\n",
       "      <th>0</th>\n",
       "      <td>Economically Disadvantaged</td>\n",
       "      <td>167,106</td>\n",
       "      <td>79.90%</td>\n",
       "      <td>3,283,812</td>\n",
       "      <td>60.60%</td>\n",
       "    </tr>\n",
       "    <tr>\n",
       "      <th>1</th>\n",
       "      <td>Non-Educationally Disadvantaged</td>\n",
       "      <td>41,934</td>\n",
       "      <td>20.10%</td>\n",
       "      <td>2,132,588</td>\n",
       "      <td>39.40%</td>\n",
       "    </tr>\n",
       "    <tr>\n",
       "      <th>2</th>\n",
       "      <td>Section 504 Students</td>\n",
       "      <td>5,993</td>\n",
       "      <td>2.90%</td>\n",
       "      <td>354,440</td>\n",
       "      <td>6.50%</td>\n",
       "    </tr>\n",
       "    <tr>\n",
       "      <th>3</th>\n",
       "      <td>English Learners (EL)</td>\n",
       "      <td>66,394</td>\n",
       "      <td>31.80%</td>\n",
       "      <td>1,054,596</td>\n",
       "      <td>19.50%</td>\n",
       "    </tr>\n",
       "    <tr>\n",
       "      <th>4</th>\n",
       "      <td>Students w/ Disciplinary Placements (2017-18)</td>\n",
       "      <td>1,622</td>\n",
       "      <td>0.70%</td>\n",
       "      <td>75,963</td>\n",
       "      <td>1.40%</td>\n",
       "    </tr>\n",
       "  </tbody>\n",
       "</table>\n",
       "</div>"
      ],
      "text/plain": [
       "                                    Demographics District Student Count  \\\n",
       "0                     Economically Disadvantaged                167,106   \n",
       "1                Non-Educationally Disadvantaged                 41,934   \n",
       "2                           Section 504 Students                  5,993   \n",
       "3                          English Learners (EL)                 66,394   \n",
       "4  Students w/ Disciplinary Placements (2017-18)                  1,622   \n",
       "\n",
       "  District Percentage of Total Students State Student Count  \\\n",
       "0                                79.90%           3,283,812   \n",
       "1                                20.10%           2,132,588   \n",
       "2                                 2.90%             354,440   \n",
       "3                                31.80%           1,054,596   \n",
       "4                                 0.70%              75,963   \n",
       "\n",
       "  State Percentage of Total Students  \n",
       "0                             60.60%  \n",
       "1                             39.40%  \n",
       "2                              6.50%  \n",
       "3                             19.50%  \n",
       "4                              1.40%  "
      ]
     },
     "execution_count": 6,
     "metadata": {},
     "output_type": "execute_result"
    }
   ],
   "source": [
    "Demographics_1819=pd.read_csv(Demographics_1819)\n",
    "Demographics_1819.head()"
   ]
  },
  {
   "cell_type": "code",
   "execution_count": 7,
   "id": "be8ca3e8",
   "metadata": {
    "scrolled": true
   },
   "outputs": [
    {
     "data": {
      "text/plain": [
       "Demographics                             object\n",
       "District Student Count                   object\n",
       "District Percentage of Total Students    object\n",
       "State Student Count                      object\n",
       "State Percentage of Total Students       object\n",
       "dtype: object"
      ]
     },
     "execution_count": 7,
     "metadata": {},
     "output_type": "execute_result"
    }
   ],
   "source": [
    "Demographics_1819.dtypes"
   ]
  },
  {
   "cell_type": "code",
   "execution_count": 8,
   "id": "07894bc0",
   "metadata": {},
   "outputs": [],
   "source": [
    "Disabilities_1819 = os.path.join(\"Disabilities_1819.csv\")"
   ]
  },
  {
   "cell_type": "code",
   "execution_count": 10,
   "id": "31a972dc",
   "metadata": {
    "scrolled": false
   },
   "outputs": [
    {
     "data": {
      "text/html": [
       "<div>\n",
       "<style scoped>\n",
       "    .dataframe tbody tr th:only-of-type {\n",
       "        vertical-align: middle;\n",
       "    }\n",
       "\n",
       "    .dataframe tbody tr th {\n",
       "        vertical-align: top;\n",
       "    }\n",
       "\n",
       "    .dataframe thead th {\n",
       "        text-align: right;\n",
       "    }\n",
       "</style>\n",
       "<table border=\"1\" class=\"dataframe\">\n",
       "  <thead>\n",
       "    <tr style=\"text-align: right;\">\n",
       "      <th></th>\n",
       "      <th>Student Disabilities</th>\n",
       "      <th>District Student Count</th>\n",
       "      <th>District Percentage of Total Students</th>\n",
       "      <th>State Student Count</th>\n",
       "      <th>State Percentage of Total Students</th>\n",
       "    </tr>\n",
       "  </thead>\n",
       "  <tbody>\n",
       "    <tr>\n",
       "      <th>0</th>\n",
       "      <td>Students with Intellectual Disabilities</td>\n",
       "      <td>7,608</td>\n",
       "      <td>49.20%</td>\n",
       "      <td>221,426</td>\n",
       "      <td>42.40%</td>\n",
       "    </tr>\n",
       "    <tr>\n",
       "      <th>1</th>\n",
       "      <td>Students with Physical Disabilities</td>\n",
       "      <td>2,274</td>\n",
       "      <td>14.70%</td>\n",
       "      <td>114,118</td>\n",
       "      <td>21.90%</td>\n",
       "    </tr>\n",
       "    <tr>\n",
       "      <th>2</th>\n",
       "      <td>Students with Autism</td>\n",
       "      <td>2,377</td>\n",
       "      <td>15.40%</td>\n",
       "      <td>71,373</td>\n",
       "      <td>13.70%</td>\n",
       "    </tr>\n",
       "    <tr>\n",
       "      <th>3</th>\n",
       "      <td>Students with Behavioral Disabilities</td>\n",
       "      <td>2,962</td>\n",
       "      <td>19.10%</td>\n",
       "      <td>107,604</td>\n",
       "      <td>20.60%</td>\n",
       "    </tr>\n",
       "    <tr>\n",
       "      <th>4</th>\n",
       "      <td>Students with Non-Categorical Early Childhood</td>\n",
       "      <td>248</td>\n",
       "      <td>1.60%</td>\n",
       "      <td>7,387</td>\n",
       "      <td>1.40%</td>\n",
       "    </tr>\n",
       "  </tbody>\n",
       "</table>\n",
       "</div>"
      ],
      "text/plain": [
       "                            Student Disabilities District Student Count  \\\n",
       "0        Students with Intellectual Disabilities                  7,608   \n",
       "1            Students with Physical Disabilities                  2,274   \n",
       "2                           Students with Autism                  2,377   \n",
       "3          Students with Behavioral Disabilities                  2,962   \n",
       "4  Students with Non-Categorical Early Childhood                    248   \n",
       "\n",
       "  District Percentage of Total Students State Student Count  \\\n",
       "0                                49.20%             221,426   \n",
       "1                                14.70%             114,118   \n",
       "2                                15.40%              71,373   \n",
       "3                                19.10%             107,604   \n",
       "4                                 1.60%               7,387   \n",
       "\n",
       "  State Percentage of Total Students  \n",
       "0                             42.40%  \n",
       "1                             21.90%  \n",
       "2                             13.70%  \n",
       "3                             20.60%  \n",
       "4                              1.40%  "
      ]
     },
     "execution_count": 10,
     "metadata": {},
     "output_type": "execute_result"
    }
   ],
   "source": [
    "Disabilities_1819 = pd.read_csv(Disabilities_1819)\n",
    "Disabilities_1819.head()"
   ]
  },
  {
   "cell_type": "code",
   "execution_count": 11,
   "id": "bf369eb7",
   "metadata": {},
   "outputs": [
    {
     "data": {
      "text/plain": [
       "Student Disabilities                     object\n",
       "District Student Count                   object\n",
       "District Percentage of Total Students    object\n",
       "State Student Count                      object\n",
       "State Percentage of Total Students       object\n",
       "dtype: object"
      ]
     },
     "execution_count": 11,
     "metadata": {},
     "output_type": "execute_result"
    }
   ],
   "source": [
    "Disabilities_1819.dtypes"
   ]
  },
  {
   "cell_type": "code",
   "execution_count": 12,
   "id": "8e314450",
   "metadata": {},
   "outputs": [],
   "source": [
    "Enrollment_1819 = os.path.join(\"Enrollment_1819.csv\")"
   ]
  },
  {
   "cell_type": "code",
   "execution_count": 13,
   "id": "f75a0b18",
   "metadata": {},
   "outputs": [
    {
     "data": {
      "text/html": [
       "<div>\n",
       "<style scoped>\n",
       "    .dataframe tbody tr th:only-of-type {\n",
       "        vertical-align: middle;\n",
       "    }\n",
       "\n",
       "    .dataframe tbody tr th {\n",
       "        vertical-align: top;\n",
       "    }\n",
       "\n",
       "    .dataframe thead th {\n",
       "        text-align: right;\n",
       "    }\n",
       "</style>\n",
       "<table border=\"1\" class=\"dataframe\">\n",
       "  <thead>\n",
       "    <tr style=\"text-align: right;\">\n",
       "      <th></th>\n",
       "      <th>Students by Grade</th>\n",
       "      <th>District Student Count</th>\n",
       "      <th>District Percentage of Total Students</th>\n",
       "      <th>State Student Count</th>\n",
       "      <th>State Percentage of Total Students</th>\n",
       "    </tr>\n",
       "  </thead>\n",
       "  <tbody>\n",
       "    <tr>\n",
       "      <th>0</th>\n",
       "      <td>Early Childhood Education</td>\n",
       "      <td>257</td>\n",
       "      <td>0.10%</td>\n",
       "      <td>15,122</td>\n",
       "      <td>0.30%</td>\n",
       "    </tr>\n",
       "    <tr>\n",
       "      <th>1</th>\n",
       "      <td>Pre-Kindergarten</td>\n",
       "      <td>14,810</td>\n",
       "      <td>7.10%</td>\n",
       "      <td>238,810</td>\n",
       "      <td>4.40%</td>\n",
       "    </tr>\n",
       "    <tr>\n",
       "      <th>2</th>\n",
       "      <td>Kindergarten</td>\n",
       "      <td>15,597</td>\n",
       "      <td>7.50%</td>\n",
       "      <td>373,435</td>\n",
       "      <td>6.90%</td>\n",
       "    </tr>\n",
       "    <tr>\n",
       "      <th>3</th>\n",
       "      <td>Grade 1</td>\n",
       "      <td>16,534</td>\n",
       "      <td>7.90%</td>\n",
       "      <td>386,567</td>\n",
       "      <td>7.10%</td>\n",
       "    </tr>\n",
       "    <tr>\n",
       "      <th>4</th>\n",
       "      <td>Grade 2</td>\n",
       "      <td>16,503</td>\n",
       "      <td>7.90%</td>\n",
       "      <td>387,490</td>\n",
       "      <td>7.20%</td>\n",
       "    </tr>\n",
       "  </tbody>\n",
       "</table>\n",
       "</div>"
      ],
      "text/plain": [
       "           Students by Grade District Student Count  \\\n",
       "0  Early Childhood Education                    257   \n",
       "1           Pre-Kindergarten                 14,810   \n",
       "2               Kindergarten                 15,597   \n",
       "3                    Grade 1                 16,534   \n",
       "4                    Grade 2                 16,503   \n",
       "\n",
       "  District Percentage of Total Students State Student Count  \\\n",
       "0                                 0.10%              15,122   \n",
       "1                                 7.10%             238,810   \n",
       "2                                 7.50%             373,435   \n",
       "3                                 7.90%             386,567   \n",
       "4                                 7.90%             387,490   \n",
       "\n",
       "  State Percentage of Total Students  \n",
       "0                              0.30%  \n",
       "1                              4.40%  \n",
       "2                              6.90%  \n",
       "3                              7.10%  \n",
       "4                              7.20%  "
      ]
     },
     "execution_count": 13,
     "metadata": {},
     "output_type": "execute_result"
    }
   ],
   "source": [
    "Enrollment_1819 = pd.read_csv(Enrollment_1819)\n",
    "Enrollment_1819.head()"
   ]
  },
  {
   "cell_type": "code",
   "execution_count": 14,
   "id": "9b197498",
   "metadata": {
    "scrolled": true
   },
   "outputs": [
    {
     "data": {
      "text/plain": [
       "Students by Grade                        object\n",
       "District Student Count                   object\n",
       "District Percentage of Total Students    object\n",
       "State Student Count                      object\n",
       "State Percentage of Total Students       object\n",
       "dtype: object"
      ]
     },
     "execution_count": 14,
     "metadata": {},
     "output_type": "execute_result"
    }
   ],
   "source": [
    "Enrollment_1819.dtypes"
   ]
  },
  {
   "cell_type": "code",
   "execution_count": 15,
   "id": "46c1d82d",
   "metadata": {},
   "outputs": [],
   "source": [
    "Ethnicity_1819 = os.path.join(\"Ethnicity_1819.csv\")"
   ]
  },
  {
   "cell_type": "code",
   "execution_count": 16,
   "id": "23473f17",
   "metadata": {
    "scrolled": true
   },
   "outputs": [
    {
     "data": {
      "text/html": [
       "<div>\n",
       "<style scoped>\n",
       "    .dataframe tbody tr th:only-of-type {\n",
       "        vertical-align: middle;\n",
       "    }\n",
       "\n",
       "    .dataframe tbody tr th {\n",
       "        vertical-align: top;\n",
       "    }\n",
       "\n",
       "    .dataframe thead th {\n",
       "        text-align: right;\n",
       "    }\n",
       "</style>\n",
       "<table border=\"1\" class=\"dataframe\">\n",
       "  <thead>\n",
       "    <tr style=\"text-align: right;\">\n",
       "      <th></th>\n",
       "      <th>Ethnic Distribution</th>\n",
       "      <th>District Student Count</th>\n",
       "      <th>District Percentage of Total Students</th>\n",
       "      <th>State Student Count</th>\n",
       "      <th>State Percentage of Total Students</th>\n",
       "    </tr>\n",
       "  </thead>\n",
       "  <tbody>\n",
       "    <tr>\n",
       "      <th>0</th>\n",
       "      <td>African American</td>\n",
       "      <td>48,808</td>\n",
       "      <td>23.30%</td>\n",
       "      <td>684,349</td>\n",
       "      <td>12.60%</td>\n",
       "    </tr>\n",
       "    <tr>\n",
       "      <th>1</th>\n",
       "      <td>Hispanic</td>\n",
       "      <td>129,572</td>\n",
       "      <td>62.00%</td>\n",
       "      <td>2,847,629</td>\n",
       "      <td>52.60%</td>\n",
       "    </tr>\n",
       "    <tr>\n",
       "      <th>2</th>\n",
       "      <td>White</td>\n",
       "      <td>18,799</td>\n",
       "      <td>9.00%</td>\n",
       "      <td>1,484,069</td>\n",
       "      <td>27.40%</td>\n",
       "    </tr>\n",
       "    <tr>\n",
       "      <th>3</th>\n",
       "      <td>American Indian</td>\n",
       "      <td>463</td>\n",
       "      <td>0.20%</td>\n",
       "      <td>20,362</td>\n",
       "      <td>0.40%</td>\n",
       "    </tr>\n",
       "    <tr>\n",
       "      <th>4</th>\n",
       "      <td>Asian</td>\n",
       "      <td>8,738</td>\n",
       "      <td>4.20%</td>\n",
       "      <td>242,247</td>\n",
       "      <td>4.50%</td>\n",
       "    </tr>\n",
       "  </tbody>\n",
       "</table>\n",
       "</div>"
      ],
      "text/plain": [
       "  Ethnic Distribution District Student Count  \\\n",
       "0    African American                 48,808   \n",
       "1            Hispanic                129,572   \n",
       "2               White                 18,799   \n",
       "3     American Indian                    463   \n",
       "4               Asian                  8,738   \n",
       "\n",
       "  District Percentage of Total Students State Student Count  \\\n",
       "0                                23.30%             684,349   \n",
       "1                                62.00%           2,847,629   \n",
       "2                                 9.00%           1,484,069   \n",
       "3                                 0.20%              20,362   \n",
       "4                                 4.20%             242,247   \n",
       "\n",
       "  State Percentage of Total Students  \n",
       "0                             12.60%  \n",
       "1                             52.60%  \n",
       "2                             27.40%  \n",
       "3                              0.40%  \n",
       "4                              4.50%  "
      ]
     },
     "execution_count": 16,
     "metadata": {},
     "output_type": "execute_result"
    }
   ],
   "source": [
    "Ethnicity_1819 = pd.read_csv(Ethnicity_1819)\n",
    "Ethnicity_1819.head()"
   ]
  },
  {
   "cell_type": "code",
   "execution_count": 17,
   "id": "5463a8f0",
   "metadata": {},
   "outputs": [
    {
     "data": {
      "text/plain": [
       "Ethnic Distribution                      object\n",
       "District Student Count                   object\n",
       "District Percentage of Total Students    object\n",
       "State Student Count                      object\n",
       "State Percentage of Total Students       object\n",
       "dtype: object"
      ]
     },
     "execution_count": 17,
     "metadata": {},
     "output_type": "execute_result"
    }
   ],
   "source": [
    "Ethnicity_1819.dtypes"
   ]
  },
  {
   "cell_type": "code",
   "execution_count": 18,
   "id": "57cb0f90",
   "metadata": {},
   "outputs": [],
   "source": [
    "SPED_Retention_1819 = os.path.join(\"SPED_Retention_1819.csv\")"
   ]
  },
  {
   "cell_type": "code",
   "execution_count": 19,
   "id": "cf97a307",
   "metadata": {},
   "outputs": [
    {
     "data": {
      "text/html": [
       "<div>\n",
       "<style scoped>\n",
       "    .dataframe tbody tr th:only-of-type {\n",
       "        vertical-align: middle;\n",
       "    }\n",
       "\n",
       "    .dataframe tbody tr th {\n",
       "        vertical-align: top;\n",
       "    }\n",
       "\n",
       "    .dataframe thead th {\n",
       "        text-align: right;\n",
       "    }\n",
       "</style>\n",
       "<table border=\"1\" class=\"dataframe\">\n",
       "  <thead>\n",
       "    <tr style=\"text-align: right;\">\n",
       "      <th></th>\n",
       "      <th>Student Information</th>\n",
       "      <th>District Non SPED Student Count</th>\n",
       "      <th>District Non SPED Percentage of Total Students</th>\n",
       "      <th>State SPED Student Count</th>\n",
       "      <th>State SPED Percentage of Total Students</th>\n",
       "    </tr>\n",
       "  </thead>\n",
       "  <tbody>\n",
       "    <tr>\n",
       "      <th>0</th>\n",
       "      <td>Kindergarten</td>\n",
       "      <td>0.70%</td>\n",
       "      <td>1.70%</td>\n",
       "      <td>4.60%</td>\n",
       "      <td>6.20%</td>\n",
       "    </tr>\n",
       "    <tr>\n",
       "      <th>1</th>\n",
       "      <td>Grade 1</td>\n",
       "      <td>4.70%</td>\n",
       "      <td>3.10%</td>\n",
       "      <td>7.50%</td>\n",
       "      <td>5.50%</td>\n",
       "    </tr>\n",
       "    <tr>\n",
       "      <th>2</th>\n",
       "      <td>Grade 2</td>\n",
       "      <td>3.10%</td>\n",
       "      <td>1.80%</td>\n",
       "      <td>4.30%</td>\n",
       "      <td>2.30%</td>\n",
       "    </tr>\n",
       "    <tr>\n",
       "      <th>3</th>\n",
       "      <td>Grade 3</td>\n",
       "      <td>2.20%</td>\n",
       "      <td>1.10%</td>\n",
       "      <td>1.20%</td>\n",
       "      <td>0.90%</td>\n",
       "    </tr>\n",
       "    <tr>\n",
       "      <th>4</th>\n",
       "      <td>Grade 4</td>\n",
       "      <td>1.30%</td>\n",
       "      <td>0.50%</td>\n",
       "      <td>1.30%</td>\n",
       "      <td>0.50%</td>\n",
       "    </tr>\n",
       "  </tbody>\n",
       "</table>\n",
       "</div>"
      ],
      "text/plain": [
       "  Student Information District Non SPED Student Count  \\\n",
       "0        Kindergarten                           0.70%   \n",
       "1             Grade 1                           4.70%   \n",
       "2             Grade 2                           3.10%   \n",
       "3             Grade 3                           2.20%   \n",
       "4             Grade 4                           1.30%   \n",
       "\n",
       "  District Non SPED Percentage of Total Students State SPED Student Count  \\\n",
       "0                                          1.70%                    4.60%   \n",
       "1                                          3.10%                    7.50%   \n",
       "2                                          1.80%                    4.30%   \n",
       "3                                          1.10%                    1.20%   \n",
       "4                                          0.50%                    1.30%   \n",
       "\n",
       "  State SPED Percentage of Total Students  \n",
       "0                                   6.20%  \n",
       "1                                   5.50%  \n",
       "2                                   2.30%  \n",
       "3                                   0.90%  \n",
       "4                                   0.50%  "
      ]
     },
     "execution_count": 19,
     "metadata": {},
     "output_type": "execute_result"
    }
   ],
   "source": [
    "SPED_Retention_1819 = pd.read_csv(SPED_Retention_1819)\n",
    "SPED_Retention_1819.head()"
   ]
  },
  {
   "cell_type": "code",
   "execution_count": 20,
   "id": "71bb73b1",
   "metadata": {},
   "outputs": [
    {
     "data": {
      "text/plain": [
       "Student Information                               object\n",
       "District Non SPED Student Count                   object\n",
       "District Non SPED Percentage of Total Students    object\n",
       "State SPED Student Count                          object\n",
       "State SPED Percentage of Total Students           object\n",
       "dtype: object"
      ]
     },
     "execution_count": 20,
     "metadata": {},
     "output_type": "execute_result"
    }
   ],
   "source": [
    "SPED_Retention_1819.dtypes"
   ]
  },
  {
   "cell_type": "code",
   "execution_count": null,
   "id": "cac514a5",
   "metadata": {},
   "outputs": [],
   "source": []
  },
  {
   "cell_type": "code",
   "execution_count": null,
   "id": "d8c1f9e5",
   "metadata": {},
   "outputs": [],
   "source": []
  },
  {
   "cell_type": "code",
   "execution_count": null,
   "id": "339cbed6",
   "metadata": {},
   "outputs": [],
   "source": []
  },
  {
   "cell_type": "code",
   "execution_count": null,
   "id": "086ba464",
   "metadata": {},
   "outputs": [],
   "source": []
  }
 ],
 "metadata": {
  "kernelspec": {
   "display_name": "Python 3 (ipykernel)",
   "language": "python",
   "name": "python3"
  },
  "language_info": {
   "codemirror_mode": {
    "name": "ipython",
    "version": 3
   },
   "file_extension": ".py",
   "mimetype": "text/x-python",
   "name": "python",
   "nbconvert_exporter": "python",
   "pygments_lexer": "ipython3",
   "version": "3.9.13"
  }
 },
 "nbformat": 4,
 "nbformat_minor": 5
}
