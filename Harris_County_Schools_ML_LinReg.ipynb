{
 "cells": [
  {
   "cell_type": "code",
   "execution_count": 1,
   "id": "b5660d20",
   "metadata": {},
   "outputs": [],
   "source": [
    "#Import environment and libraries\n",
    "import pandas as pd\n",
    "from pathlib import Path\n",
    "import matplotlib.pyplot as plt\n",
    "from sklearn.linear_model import LinearRegression"
   ]
  },
  {
   "cell_type": "code",
   "execution_count": 2,
   "id": "d7f0c1b6",
   "metadata": {},
   "outputs": [
    {
     "data": {
      "text/html": [
       "<div>\n",
       "<style scoped>\n",
       "    .dataframe tbody tr th:only-of-type {\n",
       "        vertical-align: middle;\n",
       "    }\n",
       "\n",
       "    .dataframe tbody tr th {\n",
       "        vertical-align: top;\n",
       "    }\n",
       "\n",
       "    .dataframe thead th {\n",
       "        text-align: right;\n",
       "    }\n",
       "</style>\n",
       "<table border=\"1\" class=\"dataframe\">\n",
       "  <thead>\n",
       "    <tr style=\"text-align: right;\">\n",
       "      <th></th>\n",
       "      <th>Primary_Key</th>\n",
       "      <th>School_Name</th>\n",
       "      <th>Test_Score</th>\n",
       "      <th>STAAR Performance Rates by Tested Grade, Subject, and Performance Level</th>\n",
       "      <th>School_Year</th>\n",
       "      <th>YoY_State</th>\n",
       "      <th>State</th>\n",
       "      <th>YoY_Region</th>\n",
       "      <th>Region_04</th>\n",
       "      <th>YoY_District</th>\n",
       "      <th>...</th>\n",
       "      <th>YoY_African_American</th>\n",
       "      <th>African_American</th>\n",
       "      <th>YoY_Hispanic</th>\n",
       "      <th>Hispanic</th>\n",
       "      <th>YoY_White</th>\n",
       "      <th>White</th>\n",
       "      <th>YoY_Econ_Disadv</th>\n",
       "      <th>Econ_Disadv</th>\n",
       "      <th>YoY_ELL</th>\n",
       "      <th>ELL</th>\n",
       "    </tr>\n",
       "  </thead>\n",
       "  <tbody>\n",
       "    <tr>\n",
       "      <th>0</th>\n",
       "      <td>Aldine_ISD_Grade 3 Mathematics</td>\n",
       "      <td>Aldine_ISD</td>\n",
       "      <td>Grade 3 Mathematics</td>\n",
       "      <td>At Masters Grade Level</td>\n",
       "      <td>2021_2022</td>\n",
       "      <td>0.07</td>\n",
       "      <td>0.21</td>\n",
       "      <td>0.07</td>\n",
       "      <td>0.22</td>\n",
       "      <td>0.04</td>\n",
       "      <td>...</td>\n",
       "      <td>0.04</td>\n",
       "      <td>0.05</td>\n",
       "      <td>0.04</td>\n",
       "      <td>0.08</td>\n",
       "      <td>0.04</td>\n",
       "      <td>0.09</td>\n",
       "      <td>0.05</td>\n",
       "      <td>0.08</td>\n",
       "      <td>0.04</td>\n",
       "      <td>0.08</td>\n",
       "    </tr>\n",
       "    <tr>\n",
       "      <th>1</th>\n",
       "      <td>Aldine_ISD_Grade 3 Mathematics</td>\n",
       "      <td>Aldine_ISD</td>\n",
       "      <td>Grade 3 Mathematics</td>\n",
       "      <td>At Masters Grade Level</td>\n",
       "      <td>2021_2022</td>\n",
       "      <td>0.07</td>\n",
       "      <td>0.21</td>\n",
       "      <td>0.07</td>\n",
       "      <td>0.22</td>\n",
       "      <td>0.04</td>\n",
       "      <td>...</td>\n",
       "      <td>0.04</td>\n",
       "      <td>0.05</td>\n",
       "      <td>0.04</td>\n",
       "      <td>0.08</td>\n",
       "      <td>0.04</td>\n",
       "      <td>0.09</td>\n",
       "      <td>0.05</td>\n",
       "      <td>0.08</td>\n",
       "      <td>0.04</td>\n",
       "      <td>0.08</td>\n",
       "    </tr>\n",
       "    <tr>\n",
       "      <th>2</th>\n",
       "      <td>Aldine_ISD_Grade 3 Mathematics</td>\n",
       "      <td>Aldine_ISD</td>\n",
       "      <td>Grade 3 Mathematics</td>\n",
       "      <td>At Approaches Grade Level or Above</td>\n",
       "      <td>2021_2022</td>\n",
       "      <td>0.09</td>\n",
       "      <td>0.71</td>\n",
       "      <td>0.09</td>\n",
       "      <td>0.71</td>\n",
       "      <td>0.15</td>\n",
       "      <td>...</td>\n",
       "      <td>0.14</td>\n",
       "      <td>0.40</td>\n",
       "      <td>0.14</td>\n",
       "      <td>0.54</td>\n",
       "      <td>0.32</td>\n",
       "      <td>0.56</td>\n",
       "      <td>0.15</td>\n",
       "      <td>0.51</td>\n",
       "      <td>0.15</td>\n",
       "      <td>0.54</td>\n",
       "    </tr>\n",
       "    <tr>\n",
       "      <th>3</th>\n",
       "      <td>Aldine_ISD_Grade 3 Mathematics</td>\n",
       "      <td>Aldine_ISD</td>\n",
       "      <td>Grade 3 Mathematics</td>\n",
       "      <td>At Approaches Grade Level or Above</td>\n",
       "      <td>2021_2022</td>\n",
       "      <td>0.09</td>\n",
       "      <td>0.71</td>\n",
       "      <td>0.09</td>\n",
       "      <td>0.71</td>\n",
       "      <td>0.15</td>\n",
       "      <td>...</td>\n",
       "      <td>0.14</td>\n",
       "      <td>0.40</td>\n",
       "      <td>0.14</td>\n",
       "      <td>0.54</td>\n",
       "      <td>0.32</td>\n",
       "      <td>0.56</td>\n",
       "      <td>0.15</td>\n",
       "      <td>0.51</td>\n",
       "      <td>0.15</td>\n",
       "      <td>0.54</td>\n",
       "    </tr>\n",
       "    <tr>\n",
       "      <th>4</th>\n",
       "      <td>Aldine_ISD_Grade 3 Mathematics</td>\n",
       "      <td>Aldine_ISD</td>\n",
       "      <td>Grade 3 Mathematics</td>\n",
       "      <td>At Meets Grade Level or Above</td>\n",
       "      <td>2021_2022</td>\n",
       "      <td>0.12</td>\n",
       "      <td>0.43</td>\n",
       "      <td>0.13</td>\n",
       "      <td>0.44</td>\n",
       "      <td>0.13</td>\n",
       "      <td>...</td>\n",
       "      <td>0.09</td>\n",
       "      <td>0.16</td>\n",
       "      <td>0.13</td>\n",
       "      <td>0.25</td>\n",
       "      <td>0.19</td>\n",
       "      <td>0.27</td>\n",
       "      <td>0.12</td>\n",
       "      <td>0.23</td>\n",
       "      <td>0.12</td>\n",
       "      <td>0.24</td>\n",
       "    </tr>\n",
       "  </tbody>\n",
       "</table>\n",
       "<p>5 rows × 21 columns</p>\n",
       "</div>"
      ],
      "text/plain": [
       "                      Primary_Key School_Name           Test_Score  \\\n",
       "0  Aldine_ISD_Grade 3 Mathematics  Aldine_ISD  Grade 3 Mathematics   \n",
       "1  Aldine_ISD_Grade 3 Mathematics  Aldine_ISD  Grade 3 Mathematics   \n",
       "2  Aldine_ISD_Grade 3 Mathematics  Aldine_ISD  Grade 3 Mathematics   \n",
       "3  Aldine_ISD_Grade 3 Mathematics  Aldine_ISD  Grade 3 Mathematics   \n",
       "4  Aldine_ISD_Grade 3 Mathematics  Aldine_ISD  Grade 3 Mathematics   \n",
       "\n",
       "  STAAR Performance Rates by Tested Grade, Subject, and Performance Level  \\\n",
       "0                             At Masters Grade Level                        \n",
       "1                             At Masters Grade Level                        \n",
       "2                 At Approaches Grade Level or Above                        \n",
       "3                 At Approaches Grade Level or Above                        \n",
       "4                      At Meets Grade Level or Above                        \n",
       "\n",
       "  School_Year  YoY_State  State  YoY_Region  Region_04  YoY_District  ...  \\\n",
       "0   2021_2022       0.07   0.21        0.07       0.22          0.04  ...   \n",
       "1   2021_2022       0.07   0.21        0.07       0.22          0.04  ...   \n",
       "2   2021_2022       0.09   0.71        0.09       0.71          0.15  ...   \n",
       "3   2021_2022       0.09   0.71        0.09       0.71          0.15  ...   \n",
       "4   2021_2022       0.12   0.43        0.13       0.44          0.13  ...   \n",
       "\n",
       "   YoY_African_American  African_American  YoY_Hispanic  Hispanic  YoY_White  \\\n",
       "0                  0.04              0.05          0.04      0.08       0.04   \n",
       "1                  0.04              0.05          0.04      0.08       0.04   \n",
       "2                  0.14              0.40          0.14      0.54       0.32   \n",
       "3                  0.14              0.40          0.14      0.54       0.32   \n",
       "4                  0.09              0.16          0.13      0.25       0.19   \n",
       "\n",
       "   White  YoY_Econ_Disadv  Econ_Disadv  YoY_ELL   ELL  \n",
       "0   0.09             0.05         0.08     0.04  0.08  \n",
       "1   0.09             0.05         0.08     0.04  0.08  \n",
       "2   0.56             0.15         0.51     0.15  0.54  \n",
       "3   0.56             0.15         0.51     0.15  0.54  \n",
       "4   0.27             0.12         0.23     0.12  0.24  \n",
       "\n",
       "[5 rows x 21 columns]"
      ]
     },
     "execution_count": 2,
     "metadata": {},
     "output_type": "execute_result"
    }
   ],
   "source": [
    "#Load CSV File as Pandas DataFrame & Preview DF\n",
    "df = pd.read_csv(Path('./Final_Project_MASAS-main/Resources/Static Data/combined_csv.csv'))\n",
    "df.head()"
   ]
  },
  {
   "cell_type": "code",
   "execution_count": 3,
   "id": "00e233b2",
   "metadata": {},
   "outputs": [
    {
     "data": {
      "image/png": "[encoded data removed]",
      "text/plain": [
       "<Figure size 640x480 with 1 Axes>"
      ]
     },
     "metadata": {},
     "output_type": "display_data"
    }
   ],
   "source": [
    "#Inspect relationship between district scores & ELL scores\n",
    "plt.scatter(df.YoY_District, df.YoY_ELL)\n",
    "plt.xlabel('YoY_District')\n",
    "plt.ylabel('YoY_ELL')\n",
    "plt.show()"
   ]
  },
  {
   "cell_type": "code",
   "execution_count": 4,
   "id": "a133ff94",
   "metadata": {},
   "outputs": [],
   "source": [
    "#Format data to meet requirements of Scikit-learn library\n",
    "X = df.YoY_District.values.reshape(-1, 1)"
   ]
  },
  {
   "cell_type": "code",
   "execution_count": 5,
   "id": "a47def76",
   "metadata": {},
   "outputs": [
    {
     "data": {
      "text/plain": [
       "array([[0.04],\n",
       "       [0.04],\n",
       "       [0.15],\n",
       "       [0.15],\n",
       "       [0.13]])"
      ]
     },
     "execution_count": 5,
     "metadata": {},
     "output_type": "execute_result"
    }
   ],
   "source": [
    "#Examine first five entries in X\n",
    "X[:5]"
   ]
  },
  {
   "cell_type": "code",
   "execution_count": 6,
   "id": "fd602648",
   "metadata": {},
   "outputs": [
    {
     "data": {
      "text/plain": [
       "(1506, 1)"
      ]
     },
     "execution_count": 6,
     "metadata": {},
     "output_type": "execute_result"
    }
   ],
   "source": [
    "#Examine shape of X; 1506 samples, with a single feature (column)\n",
    "X.shape"
   ]
  },
  {
   "cell_type": "code",
   "execution_count": 7,
   "id": "563f4873",
   "metadata": {},
   "outputs": [],
   "source": [
    "#Assign target variable, or ELL column, to y\n",
    "y = df.YoY_ELL"
   ]
  },
  {
   "cell_type": "code",
   "execution_count": 8,
   "id": "70219726",
   "metadata": {},
   "outputs": [],
   "source": [
    "#Create instance of the linear regression model. Instantiation means that LinearRegression class is like a template that contains the algorithms required to perform linear regression. From this template, a specific object called model is created that will analyze the data and store info specific to dataset.\n",
    "model = LinearRegression()"
   ]
  },
  {
   "cell_type": "code",
   "execution_count": 9,
   "id": "dad6c9dc",
   "metadata": {},
   "outputs": [
    {
     "data": {
      "text/plain": [
       "LinearRegression()"
      ]
     },
     "execution_count": 9,
     "metadata": {},
     "output_type": "execute_result"
    }
   ],
   "source": [
    "#Fit/Train Model, meaning analyze data and attempt to learn patterns\n",
    "model.fit(X, y)"
   ]
  },
  {
   "cell_type": "code",
   "execution_count": 10,
   "id": "76a93ed0",
   "metadata": {},
   "outputs": [
    {
     "name": "stdout",
     "output_type": "stream",
     "text": [
      "(1506,)\n"
     ]
    }
   ],
   "source": [
    "#Use predict methos to generate predictions, given the district that a student is in, model will predict ELL scores.\n",
    "y_pred = model.predict(X)\n",
    "print(y_pred.shape)"
   ]
  },
  {
   "cell_type": "code",
   "execution_count": 11,
   "id": "1a2e304c",
   "metadata": {},
   "outputs": [
    {
     "data": {
      "image/png": "[encoded data removed]",
      "text/plain": [
       "<Figure size 640x480 with 1 Axes>"
      ]
     },
     "metadata": {},
     "output_type": "display_data"
    }
   ],
   "source": [
    "#Plot predictions with a red line against the data points\n",
    "plt.scatter(X, y)\n",
    "plt.plot(X, y_pred, color='red')\n",
    "plt.show()"
   ]
  }
 ],
 "metadata": {
  "kernelspec": {
   "display_name": "mlenv",
   "language": "python",
   "name": "mlenv"
  },
  "language_info": {
   "codemirror_mode": {
    "name": "ipython",
    "version": 3
   },
   "file_extension": ".py",
   "mimetype": "text/x-python",
   "name": "python",
   "nbconvert_exporter": "python",
   "pygments_lexer": "ipython3",
   "version": "3.7.13"
  }
 },
 "nbformat": 4,
 "nbformat_minor": 5
}
