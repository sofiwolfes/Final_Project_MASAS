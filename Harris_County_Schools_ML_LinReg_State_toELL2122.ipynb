{
 "cells": [
  {
   "cell_type": "code",
   "execution_count": 2,
   "id": "b5660d20",
   "metadata": {},
   "outputs": [],
   "source": [
    "#Import environment and libraries\n",
    "import pandas as pd\n",
    "from pathlib import Path\n",
    "import matplotlib.pyplot as plt\n",
    "from sklearn.linear_model import LinearRegression"
   ]
  },
  {
   "cell_type": "code",
   "execution_count": 3,
   "id": "d7f0c1b6",
   "metadata": {
    "scrolled": true
   },
   "outputs": [
    {
     "data": {
      "text/html": [
       "<div>\n",
       "<style scoped>\n",
       "    .dataframe tbody tr th:only-of-type {\n",
       "        vertical-align: middle;\n",
       "    }\n",
       "\n",
       "    .dataframe tbody tr th {\n",
       "        vertical-align: top;\n",
       "    }\n",
       "\n",
       "    .dataframe thead th {\n",
       "        text-align: right;\n",
       "    }\n",
       "</style>\n",
       "<table border=\"1\" class=\"dataframe\">\n",
       "  <thead>\n",
       "    <tr style=\"text-align: right;\">\n",
       "      <th></th>\n",
       "      <th>Primary_Key_2021_2022</th>\n",
       "      <th>School_Name</th>\n",
       "      <th>Grade_Test_Type</th>\n",
       "      <th>Mastery_Level</th>\n",
       "      <th>Baseline_Year</th>\n",
       "      <th>Compared_Year</th>\n",
       "      <th>YOY_State_2022</th>\n",
       "      <th>YOY_Region_2022</th>\n",
       "      <th>YOY_District_2022</th>\n",
       "      <th>YOY_African_American_2022</th>\n",
       "      <th>YoY_Hispanic_2022</th>\n",
       "      <th>YoY_White_2022</th>\n",
       "      <th>YoY_Econ_Disadv_2022</th>\n",
       "      <th>YoY_ELL_2022</th>\n",
       "    </tr>\n",
       "  </thead>\n",
       "  <tbody>\n",
       "    <tr>\n",
       "      <th>0</th>\n",
       "      <td>Aldine_ISD_Grade 3 Mathematics_At Approaches G...</td>\n",
       "      <td>Aldine_ISD</td>\n",
       "      <td>Grade 3 Mathematics</td>\n",
       "      <td>At Approaches Grade Level or Above</td>\n",
       "      <td>2021</td>\n",
       "      <td>2022</td>\n",
       "      <td>0.09</td>\n",
       "      <td>0.09</td>\n",
       "      <td>0.15</td>\n",
       "      <td>0.14</td>\n",
       "      <td>0.14</td>\n",
       "      <td>0.32</td>\n",
       "      <td>0.15</td>\n",
       "      <td>0.15</td>\n",
       "    </tr>\n",
       "    <tr>\n",
       "      <th>1</th>\n",
       "      <td>Aldine_ISD_Grade 3 Mathematics_At Masters Grad...</td>\n",
       "      <td>Aldine_ISD</td>\n",
       "      <td>Grade 3 Mathematics</td>\n",
       "      <td>At Masters Grade Level</td>\n",
       "      <td>2021</td>\n",
       "      <td>2022</td>\n",
       "      <td>0.07</td>\n",
       "      <td>0.07</td>\n",
       "      <td>0.04</td>\n",
       "      <td>0.04</td>\n",
       "      <td>0.04</td>\n",
       "      <td>0.04</td>\n",
       "      <td>0.05</td>\n",
       "      <td>0.04</td>\n",
       "    </tr>\n",
       "    <tr>\n",
       "      <th>2</th>\n",
       "      <td>Aldine_ISD_Grade 3 Mathematics_At Meets Grade ...</td>\n",
       "      <td>Aldine_ISD</td>\n",
       "      <td>Grade 3 Mathematics</td>\n",
       "      <td>At Meets Grade Level or Above</td>\n",
       "      <td>2021</td>\n",
       "      <td>2022</td>\n",
       "      <td>0.12</td>\n",
       "      <td>0.13</td>\n",
       "      <td>0.13</td>\n",
       "      <td>0.09</td>\n",
       "      <td>0.13</td>\n",
       "      <td>0.19</td>\n",
       "      <td>0.12</td>\n",
       "      <td>0.12</td>\n",
       "    </tr>\n",
       "    <tr>\n",
       "      <th>3</th>\n",
       "      <td>Aldine_ISD_Grade 3 Reading_At Approaches Grade...</td>\n",
       "      <td>Aldine_ISD</td>\n",
       "      <td>Grade 3 Reading</td>\n",
       "      <td>At Approaches Grade Level or Above</td>\n",
       "      <td>2021</td>\n",
       "      <td>2022</td>\n",
       "      <td>0.09</td>\n",
       "      <td>0.08</td>\n",
       "      <td>0.17</td>\n",
       "      <td>0.16</td>\n",
       "      <td>0.18</td>\n",
       "      <td>0.13</td>\n",
       "      <td>0.17</td>\n",
       "      <td>0.17</td>\n",
       "    </tr>\n",
       "    <tr>\n",
       "      <th>4</th>\n",
       "      <td>Aldine_ISD_Grade 3 Reading_At Masters Grade Le...</td>\n",
       "      <td>Aldine_ISD</td>\n",
       "      <td>Grade 3 Reading</td>\n",
       "      <td>At Masters Grade Level</td>\n",
       "      <td>2021</td>\n",
       "      <td>2022</td>\n",
       "      <td>0.11</td>\n",
       "      <td>0.11</td>\n",
       "      <td>0.08</td>\n",
       "      <td>0.05</td>\n",
       "      <td>0.09</td>\n",
       "      <td>0.09</td>\n",
       "      <td>0.09</td>\n",
       "      <td>0.07</td>\n",
       "    </tr>\n",
       "  </tbody>\n",
       "</table>\n",
       "</div>"
      ],
      "text/plain": [
       "                               Primary_Key_2021_2022 School_Name  \\\n",
       "0  Aldine_ISD_Grade 3 Mathematics_At Approaches G...  Aldine_ISD   \n",
       "1  Aldine_ISD_Grade 3 Mathematics_At Masters Grad...  Aldine_ISD   \n",
       "2  Aldine_ISD_Grade 3 Mathematics_At Meets Grade ...  Aldine_ISD   \n",
       "3  Aldine_ISD_Grade 3 Reading_At Approaches Grade...  Aldine_ISD   \n",
       "4  Aldine_ISD_Grade 3 Reading_At Masters Grade Le...  Aldine_ISD   \n",
       "\n",
       "       Grade_Test_Type                       Mastery_Level  Baseline_Year  \\\n",
       "0  Grade 3 Mathematics  At Approaches Grade Level or Above           2021   \n",
       "1  Grade 3 Mathematics              At Masters Grade Level           2021   \n",
       "2  Grade 3 Mathematics       At Meets Grade Level or Above           2021   \n",
       "3      Grade 3 Reading  At Approaches Grade Level or Above           2021   \n",
       "4      Grade 3 Reading              At Masters Grade Level           2021   \n",
       "\n",
       "   Compared_Year  YOY_State_2022  YOY_Region_2022  YOY_District_2022  \\\n",
       "0           2022            0.09             0.09               0.15   \n",
       "1           2022            0.07             0.07               0.04   \n",
       "2           2022            0.12             0.13               0.13   \n",
       "3           2022            0.09             0.08               0.17   \n",
       "4           2022            0.11             0.11               0.08   \n",
       "\n",
       "   YOY_African_American_2022  YoY_Hispanic_2022  YoY_White_2022  \\\n",
       "0                       0.14               0.14            0.32   \n",
       "1                       0.04               0.04            0.04   \n",
       "2                       0.09               0.13            0.19   \n",
       "3                       0.16               0.18            0.13   \n",
       "4                       0.05               0.09            0.09   \n",
       "\n",
       "   YoY_Econ_Disadv_2022  YoY_ELL_2022  \n",
       "0                  0.15          0.15  \n",
       "1                  0.05          0.04  \n",
       "2                  0.12          0.12  \n",
       "3                  0.17          0.17  \n",
       "4                  0.09          0.07  "
      ]
     },
     "execution_count": 3,
     "metadata": {},
     "output_type": "execute_result"
    }
   ],
   "source": [
    "#Load CSV File as Pandas DataFrame & Preview DF\n",
    "df = pd.read_csv(Path('./YOY_2122_combined_csv.csv'))\n",
    "df.head()"
   ]
  },
  {
   "cell_type": "code",
   "execution_count": 4,
   "id": "00e233b2",
   "metadata": {},
   "outputs": [
    {
     "data": {
      "image/png": "[encoded data removed]",
      "text/plain": [
       "<Figure size 640x480 with 1 Axes>"
      ]
     },
     "metadata": {},
     "output_type": "display_data"
    }
   ],
   "source": [
    "#Inspect relationship between state scores & ELL scores\n",
    "plt.scatter(df.YOY_State_2022, df.YoY_ELL_2022)\n",
    "plt.xlabel('YOY_State_2022')\n",
    "plt.ylabel('YoY_ELL_2022')\n",
    "plt.show()"
   ]
  },
  {
   "cell_type": "code",
   "execution_count": 5,
   "id": "a133ff94",
   "metadata": {},
   "outputs": [],
   "source": [
    "#Format data to meet requirements of Scikit-learn library\n",
    "X = df.YOY_State_2022.values.reshape(-1, 1)"
   ]
  },
  {
   "cell_type": "code",
   "execution_count": 6,
   "id": "a47def76",
   "metadata": {},
   "outputs": [
    {
     "data": {
      "text/plain": [
       "array([[0.09],\n",
       "       [0.07],\n",
       "       [0.12],\n",
       "       [0.09],\n",
       "       [0.11]])"
      ]
     },
     "execution_count": 6,
     "metadata": {},
     "output_type": "execute_result"
    }
   ],
   "source": [
    "#Examine first five entries in X\n",
    "X[:5]"
   ]
  },
  {
   "cell_type": "code",
   "execution_count": 7,
   "id": "fd602648",
   "metadata": {},
   "outputs": [
    {
     "data": {
      "text/plain": [
       "(743, 1)"
      ]
     },
     "execution_count": 7,
     "metadata": {},
     "output_type": "execute_result"
    }
   ],
   "source": [
    "#Examine shape of X; 1506 samples, with a single feature (column)\n",
    "X.shape"
   ]
  },
  {
   "cell_type": "code",
   "execution_count": 8,
   "id": "563f4873",
   "metadata": {},
   "outputs": [],
   "source": [
    "#Assign target variable, or ELL column, to y\n",
    "y = df.YoY_ELL_2022"
   ]
  },
  {
   "cell_type": "code",
   "execution_count": 9,
   "id": "70219726",
   "metadata": {},
   "outputs": [],
   "source": [
    "#Create instance of the linear regression model. Instantiation means that LinearRegression class is like a template that contains the algorithms required to perform linear regression. From this template, a specific object called model is created that will analyze the data and store info specific to dataset.\n",
    "model = LinearRegression()"
   ]
  },
  {
   "cell_type": "code",
   "execution_count": 10,
   "id": "dad6c9dc",
   "metadata": {},
   "outputs": [
    {
     "data": {
      "text/plain": [
       "LinearRegression()"
      ]
     },
     "execution_count": 10,
     "metadata": {},
     "output_type": "execute_result"
    }
   ],
   "source": [
    "#Fit/Train Model, meaning analyze data and attempt to learn patterns\n",
    "model.fit(X, y)"
   ]
  },
  {
   "cell_type": "code",
   "execution_count": 11,
   "id": "76a93ed0",
   "metadata": {},
   "outputs": [
    {
     "name": "stdout",
     "output_type": "stream",
     "text": [
      "(743,)\n"
     ]
    }
   ],
   "source": [
    "#Use predict methos to generate predictions, given the district that a student is in, model will predict ELL scores.\n",
    "y_pred = model.predict(X)\n",
    "print(y_pred.shape)"
   ]
  },
  {
   "cell_type": "code",
   "execution_count": 12,
   "id": "1a2e304c",
   "metadata": {},
   "outputs": [
    {
     "data": {
      "image/png": "[encoded data removed]",
      "text/plain": [
       "<Figure size 640x480 with 1 Axes>"
      ]
     },
     "metadata": {},
     "output_type": "display_data"
    }
   ],
   "source": [
    "#Plot predictions with a red line against the data points\n",
    "plt.scatter(X, y)\n",
    "plt.plot(X, y_pred, color='red')\n",
    "plt.xlabel('YOY_State_2022')\n",
    "plt.ylabel('YoY_ELL_2022')\n",
    "plt.show()"
   ]
  },
  {
   "cell_type": "code",
   "execution_count": 13,
   "id": "11ff1427",
   "metadata": {},
   "outputs": [
    {
     "name": "stdout",
     "output_type": "stream",
     "text": [
      "[0.91577583]\n",
      "0.021014075680160837\n"
     ]
    }
   ],
   "source": [
    "print(model.coef_)\n",
    "print(model.intercept_)"
   ]
  }
 ],
 "metadata": {
  "kernelspec": {
   "display_name": "mlenv",
   "language": "python",
   "name": "mlenv"
  },
  "language_info": {
   "codemirror_mode": {
    "name": "ipython",
    "version": 3
   },
   "file_extension": ".py",
   "mimetype": "text/x-python",
   "name": "python",
   "nbconvert_exporter": "python",
   "pygments_lexer": "ipython3",
   "version": "3.7.13"
  }
 },
 "nbformat": 4,
 "nbformat_minor": 5
}
