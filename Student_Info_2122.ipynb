{
 "cells": [
  {
   "cell_type": "code",
   "execution_count": 1,
   "id": "a6bf4d8c",
   "metadata": {},
   "outputs": [],
   "source": [
    "import pandas as pd\n",
    "import os"
   ]
  },
  {
   "cell_type": "code",
   "execution_count": 2,
   "id": "1d66219b",
   "metadata": {},
   "outputs": [],
   "source": [
    "Class_Size_21_22 = os.path.join(\"Class_Size_2122.csv\")\n"
   ]
  },
  {
   "cell_type": "code",
   "execution_count": 3,
   "id": "cf20fbd0",
   "metadata": {
    "scrolled": false
   },
   "outputs": [
    {
     "data": {
      "text/html": [
       "<div>\n",
       "<style scoped>\n",
       "    .dataframe tbody tr th:only-of-type {\n",
       "        vertical-align: middle;\n",
       "    }\n",
       "\n",
       "    .dataframe tbody tr th {\n",
       "        vertical-align: top;\n",
       "    }\n",
       "\n",
       "    .dataframe thead th {\n",
       "        text-align: right;\n",
       "    }\n",
       "</style>\n",
       "<table border=\"1\" class=\"dataframe\">\n",
       "  <thead>\n",
       "    <tr style=\"text-align: right;\">\n",
       "      <th></th>\n",
       "      <th>Class Size Information</th>\n",
       "      <th>District Average</th>\n",
       "      <th>State Average</th>\n",
       "    </tr>\n",
       "  </thead>\n",
       "  <tbody>\n",
       "    <tr>\n",
       "      <th>0</th>\n",
       "      <td>Kindergarten</td>\n",
       "      <td>18.2</td>\n",
       "      <td>18.7</td>\n",
       "    </tr>\n",
       "    <tr>\n",
       "      <th>1</th>\n",
       "      <td>Grade 1</td>\n",
       "      <td>15.7</td>\n",
       "      <td>18.7</td>\n",
       "    </tr>\n",
       "    <tr>\n",
       "      <th>2</th>\n",
       "      <td>Grade 2</td>\n",
       "      <td>15.4</td>\n",
       "      <td>18.6</td>\n",
       "    </tr>\n",
       "    <tr>\n",
       "      <th>3</th>\n",
       "      <td>Grade 3</td>\n",
       "      <td>14.4</td>\n",
       "      <td>18.7</td>\n",
       "    </tr>\n",
       "    <tr>\n",
       "      <th>4</th>\n",
       "      <td>Grade 4</td>\n",
       "      <td>13.7</td>\n",
       "      <td>18.8</td>\n",
       "    </tr>\n",
       "  </tbody>\n",
       "</table>\n",
       "</div>"
      ],
      "text/plain": [
       "  Class Size Information  District Average  State Average\n",
       "0           Kindergarten              18.2           18.7\n",
       "1                Grade 1              15.7           18.7\n",
       "2                Grade 2              15.4           18.6\n",
       "3                Grade 3              14.4           18.7\n",
       "4                Grade 4              13.7           18.8"
      ]
     },
     "execution_count": 3,
     "metadata": {},
     "output_type": "execute_result"
    }
   ],
   "source": [
    "Class_Size_21_22 = pd.read_csv(Class_Size_21_22)\n",
    "Class_Size_21_22.head()"
   ]
  },
  {
   "cell_type": "code",
   "execution_count": 4,
   "id": "e61b980d",
   "metadata": {},
   "outputs": [
    {
     "data": {
      "text/html": [
       "<div>\n",
       "<style scoped>\n",
       "    .dataframe tbody tr th:only-of-type {\n",
       "        vertical-align: middle;\n",
       "    }\n",
       "\n",
       "    .dataframe tbody tr th {\n",
       "        vertical-align: top;\n",
       "    }\n",
       "\n",
       "    .dataframe thead th {\n",
       "        text-align: right;\n",
       "    }\n",
       "</style>\n",
       "<table border=\"1\" class=\"dataframe\">\n",
       "  <thead>\n",
       "    <tr style=\"text-align: right;\">\n",
       "      <th></th>\n",
       "      <th>Class Size Information</th>\n",
       "      <th>District Average</th>\n",
       "      <th>State Average</th>\n",
       "    </tr>\n",
       "  </thead>\n",
       "  <tbody>\n",
       "    <tr>\n",
       "      <th>0</th>\n",
       "      <td>False</td>\n",
       "      <td>False</td>\n",
       "      <td>False</td>\n",
       "    </tr>\n",
       "    <tr>\n",
       "      <th>1</th>\n",
       "      <td>False</td>\n",
       "      <td>False</td>\n",
       "      <td>False</td>\n",
       "    </tr>\n",
       "    <tr>\n",
       "      <th>2</th>\n",
       "      <td>False</td>\n",
       "      <td>False</td>\n",
       "      <td>False</td>\n",
       "    </tr>\n",
       "    <tr>\n",
       "      <th>3</th>\n",
       "      <td>False</td>\n",
       "      <td>False</td>\n",
       "      <td>False</td>\n",
       "    </tr>\n",
       "    <tr>\n",
       "      <th>4</th>\n",
       "      <td>False</td>\n",
       "      <td>False</td>\n",
       "      <td>False</td>\n",
       "    </tr>\n",
       "    <tr>\n",
       "      <th>5</th>\n",
       "      <td>False</td>\n",
       "      <td>False</td>\n",
       "      <td>False</td>\n",
       "    </tr>\n",
       "    <tr>\n",
       "      <th>6</th>\n",
       "      <td>False</td>\n",
       "      <td>False</td>\n",
       "      <td>False</td>\n",
       "    </tr>\n",
       "    <tr>\n",
       "      <th>7</th>\n",
       "      <td>False</td>\n",
       "      <td>False</td>\n",
       "      <td>False</td>\n",
       "    </tr>\n",
       "    <tr>\n",
       "      <th>8</th>\n",
       "      <td>False</td>\n",
       "      <td>False</td>\n",
       "      <td>False</td>\n",
       "    </tr>\n",
       "    <tr>\n",
       "      <th>9</th>\n",
       "      <td>False</td>\n",
       "      <td>False</td>\n",
       "      <td>False</td>\n",
       "    </tr>\n",
       "    <tr>\n",
       "      <th>10</th>\n",
       "      <td>False</td>\n",
       "      <td>False</td>\n",
       "      <td>False</td>\n",
       "    </tr>\n",
       "    <tr>\n",
       "      <th>11</th>\n",
       "      <td>False</td>\n",
       "      <td>False</td>\n",
       "      <td>False</td>\n",
       "    </tr>\n",
       "  </tbody>\n",
       "</table>\n",
       "</div>"
      ],
      "text/plain": [
       "    Class Size Information  District Average  State Average\n",
       "0                    False             False          False\n",
       "1                    False             False          False\n",
       "2                    False             False          False\n",
       "3                    False             False          False\n",
       "4                    False             False          False\n",
       "5                    False             False          False\n",
       "6                    False             False          False\n",
       "7                    False             False          False\n",
       "8                    False             False          False\n",
       "9                    False             False          False\n",
       "10                   False             False          False\n",
       "11                   False             False          False"
      ]
     },
     "execution_count": 4,
     "metadata": {},
     "output_type": "execute_result"
    }
   ],
   "source": [
    "Class_Size_21_22.isnull()"
   ]
  },
  {
   "cell_type": "code",
   "execution_count": 5,
   "id": "b76a5d99",
   "metadata": {
    "scrolled": true
   },
   "outputs": [
    {
     "data": {
      "text/plain": [
       "Class Size Information    0\n",
       "District Average          0\n",
       "State Average             0\n",
       "dtype: int64"
      ]
     },
     "execution_count": 5,
     "metadata": {},
     "output_type": "execute_result"
    }
   ],
   "source": [
    "Class_Size_21_22.isnull().sum()"
   ]
  },
  {
   "cell_type": "code",
   "execution_count": 6,
   "id": "e190b71a",
   "metadata": {
    "scrolled": false
   },
   "outputs": [
    {
     "data": {
      "text/plain": [
       "<bound method DataFrame.dropna of    Class Size Information  District Average  State Average\n",
       "0            Kindergarten              18.2           18.7\n",
       "1                 Grade 1              15.7           18.7\n",
       "2                 Grade 2              15.4           18.6\n",
       "3                 Grade 3              14.4           18.7\n",
       "4                 Grade 4              13.7           18.8\n",
       "5                 Grade 5              14.0           20.2\n",
       "6                 Grade 6              19.1           19.2\n",
       "7   English/Language Arts              17.6           16.3\n",
       "8       Foreign Languages              22.7           18.4\n",
       "9             Mathematics              21.2           17.5\n",
       "10                Science              21.5           18.5\n",
       "11         Social Studies              22.8           19.1>"
      ]
     },
     "execution_count": 6,
     "metadata": {},
     "output_type": "execute_result"
    }
   ],
   "source": [
    "Class_Size_21_22.dropna"
   ]
  },
  {
   "cell_type": "code",
   "execution_count": 7,
   "id": "457744ed",
   "metadata": {},
   "outputs": [
    {
     "data": {
      "text/plain": [
       "Class Size Information     object\n",
       "District Average          float64\n",
       "State Average             float64\n",
       "dtype: object"
      ]
     },
     "execution_count": 7,
     "metadata": {},
     "output_type": "execute_result"
    }
   ],
   "source": [
    "Class_Size_21_22.dtypes"
   ]
  },
  {
   "cell_type": "code",
   "execution_count": 8,
   "id": "4ea67004",
   "metadata": {},
   "outputs": [],
   "source": [
    "Demographics_2122 = os.path.join(\"Demographics_2122.csv\")"
   ]
  },
  {
   "cell_type": "code",
   "execution_count": 9,
   "id": "c6ee5655",
   "metadata": {
    "scrolled": false
   },
   "outputs": [],
   "source": [
    "Demographics_2122= pd.read_csv(Demographics_2122)\n"
   ]
  },
  {
   "cell_type": "code",
   "execution_count": 10,
   "id": "5804cabf",
   "metadata": {},
   "outputs": [
    {
     "data": {
      "text/html": [
       "<div>\n",
       "<style scoped>\n",
       "    .dataframe tbody tr th:only-of-type {\n",
       "        vertical-align: middle;\n",
       "    }\n",
       "\n",
       "    .dataframe tbody tr th {\n",
       "        vertical-align: top;\n",
       "    }\n",
       "\n",
       "    .dataframe thead th {\n",
       "        text-align: right;\n",
       "    }\n",
       "</style>\n",
       "<table border=\"1\" class=\"dataframe\">\n",
       "  <thead>\n",
       "    <tr style=\"text-align: right;\">\n",
       "      <th></th>\n",
       "      <th>Demographics</th>\n",
       "      <th>District Student Count</th>\n",
       "      <th>District Percentage of Total Students</th>\n",
       "      <th>State Student Count</th>\n",
       "      <th>State Percentage of Total Students</th>\n",
       "    </tr>\n",
       "  </thead>\n",
       "  <tbody>\n",
       "    <tr>\n",
       "      <th>0</th>\n",
       "      <td>Economically Disadvantaged</td>\n",
       "      <td>154,078</td>\n",
       "      <td>79.20%</td>\n",
       "      <td>3,289,420</td>\n",
       "      <td>60.60%</td>\n",
       "    </tr>\n",
       "    <tr>\n",
       "      <th>1</th>\n",
       "      <td>Non-Educationally Disadvantaged</td>\n",
       "      <td>40,529</td>\n",
       "      <td>20.80%</td>\n",
       "      <td>2,137,950</td>\n",
       "      <td>39.40%</td>\n",
       "    </tr>\n",
       "    <tr>\n",
       "      <th>2</th>\n",
       "      <td>Section 504 Students</td>\n",
       "      <td>7,385</td>\n",
       "      <td>3.80%</td>\n",
       "      <td>401,648</td>\n",
       "      <td>7.40%</td>\n",
       "    </tr>\n",
       "    <tr>\n",
       "      <th>3</th>\n",
       "      <td>EB Students/EL</td>\n",
       "      <td>68,205</td>\n",
       "      <td>35.00%</td>\n",
       "      <td>1,175,333</td>\n",
       "      <td>21.70%</td>\n",
       "    </tr>\n",
       "    <tr>\n",
       "      <th>4</th>\n",
       "      <td>Students w/ Dyslexia</td>\n",
       "      <td>5,563</td>\n",
       "      <td>2.90%</td>\n",
       "      <td>270,966</td>\n",
       "      <td>5.00%</td>\n",
       "    </tr>\n",
       "  </tbody>\n",
       "</table>\n",
       "</div>"
      ],
      "text/plain": [
       "                      Demographics District Student Count  \\\n",
       "0       Economically Disadvantaged                154,078   \n",
       "1  Non-Educationally Disadvantaged                 40,529   \n",
       "2             Section 504 Students                  7,385   \n",
       "3                   EB Students/EL                 68,205   \n",
       "4             Students w/ Dyslexia                  5,563   \n",
       "\n",
       "  District Percentage of Total Students State Student Count  \\\n",
       "0                                79.20%           3,289,420   \n",
       "1                                20.80%           2,137,950   \n",
       "2                                 3.80%             401,648   \n",
       "3                                35.00%           1,175,333   \n",
       "4                                 2.90%             270,966   \n",
       "\n",
       "  State Percentage of Total Students  \n",
       "0                             60.60%  \n",
       "1                             39.40%  \n",
       "2                              7.40%  \n",
       "3                             21.70%  \n",
       "4                              5.00%  "
      ]
     },
     "execution_count": 10,
     "metadata": {},
     "output_type": "execute_result"
    }
   ],
   "source": [
    "Demographics_2122.head()"
   ]
  },
  {
   "cell_type": "code",
   "execution_count": 11,
   "id": "45ffb5e7",
   "metadata": {
    "scrolled": false
   },
   "outputs": [
    {
     "data": {
      "text/plain": [
       "Demographics                             object\n",
       "District Student Count                   object\n",
       "District Percentage of Total Students    object\n",
       "State Student Count                      object\n",
       "State Percentage of Total Students       object\n",
       "dtype: object"
      ]
     },
     "execution_count": 11,
     "metadata": {},
     "output_type": "execute_result"
    }
   ],
   "source": [
    "Demographics_2122.dtypes"
   ]
  },
  {
   "cell_type": "code",
   "execution_count": 12,
   "id": "15e0b1d8",
   "metadata": {},
   "outputs": [],
   "source": [
    "Disabilities_2122 = os.path.join(\"Disabilities_2122.csv\")"
   ]
  },
  {
   "cell_type": "code",
   "execution_count": 13,
   "id": "231e911c",
   "metadata": {
    "scrolled": true
   },
   "outputs": [
    {
     "data": {
      "text/html": [
       "<div>\n",
       "<style scoped>\n",
       "    .dataframe tbody tr th:only-of-type {\n",
       "        vertical-align: middle;\n",
       "    }\n",
       "\n",
       "    .dataframe tbody tr th {\n",
       "        vertical-align: top;\n",
       "    }\n",
       "\n",
       "    .dataframe thead th {\n",
       "        text-align: right;\n",
       "    }\n",
       "</style>\n",
       "<table border=\"1\" class=\"dataframe\">\n",
       "  <thead>\n",
       "    <tr style=\"text-align: right;\">\n",
       "      <th></th>\n",
       "      <th>Student Disabilities</th>\n",
       "      <th>District Student Count</th>\n",
       "      <th>District Percentage of Total Students</th>\n",
       "      <th>State Student Count</th>\n",
       "      <th>State Percentage of Total Students</th>\n",
       "    </tr>\n",
       "  </thead>\n",
       "  <tbody>\n",
       "    <tr>\n",
       "      <th>0</th>\n",
       "      <td>Students with Intellectual Disabilities</td>\n",
       "      <td>7,424</td>\n",
       "      <td>45.60%</td>\n",
       "      <td>268,673</td>\n",
       "      <td>43.00%</td>\n",
       "    </tr>\n",
       "    <tr>\n",
       "      <th>1</th>\n",
       "      <td>Students with Physical Disabilities</td>\n",
       "      <td>2,703</td>\n",
       "      <td>16.60%</td>\n",
       "      <td>129,679</td>\n",
       "      <td>20.80%</td>\n",
       "    </tr>\n",
       "    <tr>\n",
       "      <th>2</th>\n",
       "      <td>Students with Autism</td>\n",
       "      <td>3,020</td>\n",
       "      <td>18.50%</td>\n",
       "      <td>91,742</td>\n",
       "      <td>14.70%</td>\n",
       "    </tr>\n",
       "    <tr>\n",
       "      <th>3</th>\n",
       "      <td>Students with Behavioral Disabilities</td>\n",
       "      <td>2,976</td>\n",
       "      <td>18.30%</td>\n",
       "      <td>125,096</td>\n",
       "      <td>20.00%</td>\n",
       "    </tr>\n",
       "    <tr>\n",
       "      <th>4</th>\n",
       "      <td>Students with Non-Categorical Early Childhood</td>\n",
       "      <td>164</td>\n",
       "      <td>1.00%</td>\n",
       "      <td>9,066</td>\n",
       "      <td>1.50%</td>\n",
       "    </tr>\n",
       "  </tbody>\n",
       "</table>\n",
       "</div>"
      ],
      "text/plain": [
       "                            Student Disabilities District Student Count  \\\n",
       "0        Students with Intellectual Disabilities                  7,424   \n",
       "1            Students with Physical Disabilities                  2,703   \n",
       "2                           Students with Autism                  3,020   \n",
       "3          Students with Behavioral Disabilities                  2,976   \n",
       "4  Students with Non-Categorical Early Childhood                    164   \n",
       "\n",
       "  District Percentage of Total Students State Student Count  \\\n",
       "0                                45.60%             268,673   \n",
       "1                                16.60%             129,679   \n",
       "2                                18.50%              91,742   \n",
       "3                                18.30%             125,096   \n",
       "4                                 1.00%               9,066   \n",
       "\n",
       "  State Percentage of Total Students  \n",
       "0                             43.00%  \n",
       "1                             20.80%  \n",
       "2                             14.70%  \n",
       "3                             20.00%  \n",
       "4                              1.50%  "
      ]
     },
     "execution_count": 13,
     "metadata": {},
     "output_type": "execute_result"
    }
   ],
   "source": [
    "Disabilities_2122 = pd.read_csv(Disabilities_2122)\n",
    "Disabilities_2122.head()"
   ]
  },
  {
   "cell_type": "code",
   "execution_count": 14,
   "id": "c3ff0789",
   "metadata": {},
   "outputs": [
    {
     "data": {
      "text/plain": [
       "Student Disabilities                     object\n",
       "District Student Count                   object\n",
       "District Percentage of Total Students    object\n",
       "State Student Count                      object\n",
       "State Percentage of Total Students       object\n",
       "dtype: object"
      ]
     },
     "execution_count": 14,
     "metadata": {},
     "output_type": "execute_result"
    }
   ],
   "source": [
    "Disabilities_2122.dtypes\n"
   ]
  },
  {
   "cell_type": "code",
   "execution_count": 15,
   "id": "98f94a60",
   "metadata": {},
   "outputs": [],
   "source": [
    "Enrollment_2122 = os.path.join(\"Enrollment_2122.csv\")"
   ]
  },
  {
   "cell_type": "code",
   "execution_count": 16,
   "id": "fef22114",
   "metadata": {
    "scrolled": true
   },
   "outputs": [
    {
     "data": {
      "text/html": [
       "<div>\n",
       "<style scoped>\n",
       "    .dataframe tbody tr th:only-of-type {\n",
       "        vertical-align: middle;\n",
       "    }\n",
       "\n",
       "    .dataframe tbody tr th {\n",
       "        vertical-align: top;\n",
       "    }\n",
       "\n",
       "    .dataframe thead th {\n",
       "        text-align: right;\n",
       "    }\n",
       "</style>\n",
       "<table border=\"1\" class=\"dataframe\">\n",
       "  <thead>\n",
       "    <tr style=\"text-align: right;\">\n",
       "      <th></th>\n",
       "      <th>Students by Grade</th>\n",
       "      <th>District Student Count</th>\n",
       "      <th>District Percentage of Total Students</th>\n",
       "      <th>State Student Count</th>\n",
       "      <th>State Percentage of Total Students</th>\n",
       "    </tr>\n",
       "  </thead>\n",
       "  <tbody>\n",
       "    <tr>\n",
       "      <th>0</th>\n",
       "      <td>Early Childhood Education</td>\n",
       "      <td>359</td>\n",
       "      <td>0.20%</td>\n",
       "      <td>21,375</td>\n",
       "      <td>0.40%</td>\n",
       "    </tr>\n",
       "    <tr>\n",
       "      <th>1</th>\n",
       "      <td>Pre-Kindergarten</td>\n",
       "      <td>11,746</td>\n",
       "      <td>6.00%</td>\n",
       "      <td>223,733</td>\n",
       "      <td>4.10%</td>\n",
       "    </tr>\n",
       "    <tr>\n",
       "      <th>2</th>\n",
       "      <td>Kindergarten</td>\n",
       "      <td>14,177</td>\n",
       "      <td>7.30%</td>\n",
       "      <td>371,502</td>\n",
       "      <td>6.80%</td>\n",
       "    </tr>\n",
       "    <tr>\n",
       "      <th>3</th>\n",
       "      <td>Grade 1</td>\n",
       "      <td>15,075</td>\n",
       "      <td>7.70%</td>\n",
       "      <td>386,232</td>\n",
       "      <td>7.10%</td>\n",
       "    </tr>\n",
       "    <tr>\n",
       "      <th>4</th>\n",
       "      <td>Grade 2</td>\n",
       "      <td>14,307</td>\n",
       "      <td>7.40%</td>\n",
       "      <td>383,838</td>\n",
       "      <td>7.10%</td>\n",
       "    </tr>\n",
       "  </tbody>\n",
       "</table>\n",
       "</div>"
      ],
      "text/plain": [
       "           Students by Grade District Student Count  \\\n",
       "0  Early Childhood Education                    359   \n",
       "1           Pre-Kindergarten                 11,746   \n",
       "2               Kindergarten                 14,177   \n",
       "3                    Grade 1                 15,075   \n",
       "4                    Grade 2                 14,307   \n",
       "\n",
       "  District Percentage of Total Students State Student Count  \\\n",
       "0                                 0.20%              21,375   \n",
       "1                                 6.00%             223,733   \n",
       "2                                 7.30%             371,502   \n",
       "3                                 7.70%             386,232   \n",
       "4                                 7.40%             383,838   \n",
       "\n",
       "  State Percentage of Total Students  \n",
       "0                              0.40%  \n",
       "1                              4.10%  \n",
       "2                              6.80%  \n",
       "3                              7.10%  \n",
       "4                              7.10%  "
      ]
     },
     "execution_count": 16,
     "metadata": {},
     "output_type": "execute_result"
    }
   ],
   "source": [
    "Enrollment_2122= pd.read_csv(Enrollment_2122)\n",
    "Enrollment_2122.head()"
   ]
  },
  {
   "cell_type": "code",
   "execution_count": 17,
   "id": "ae3b4bae",
   "metadata": {},
   "outputs": [
    {
     "data": {
      "text/plain": [
       "Students by Grade                        object\n",
       "District Student Count                   object\n",
       "District Percentage of Total Students    object\n",
       "State Student Count                      object\n",
       "State Percentage of Total Students       object\n",
       "dtype: object"
      ]
     },
     "execution_count": 17,
     "metadata": {},
     "output_type": "execute_result"
    }
   ],
   "source": [
    "Enrollment_2122.dtypes"
   ]
  },
  {
   "cell_type": "code",
   "execution_count": 18,
   "id": "1a4434b8",
   "metadata": {},
   "outputs": [],
   "source": [
    "Ethnicity_2122 = os.path.join(\"Ethnicity_2122.csv\")"
   ]
  },
  {
   "cell_type": "code",
   "execution_count": 19,
   "id": "3abe999a",
   "metadata": {},
   "outputs": [
    {
     "data": {
      "text/html": [
       "<div>\n",
       "<style scoped>\n",
       "    .dataframe tbody tr th:only-of-type {\n",
       "        vertical-align: middle;\n",
       "    }\n",
       "\n",
       "    .dataframe tbody tr th {\n",
       "        vertical-align: top;\n",
       "    }\n",
       "\n",
       "    .dataframe thead th {\n",
       "        text-align: right;\n",
       "    }\n",
       "</style>\n",
       "<table border=\"1\" class=\"dataframe\">\n",
       "  <thead>\n",
       "    <tr style=\"text-align: right;\">\n",
       "      <th></th>\n",
       "      <th>Ethnic Distribution</th>\n",
       "      <th>District Student Count</th>\n",
       "      <th>District Percentage of Total Students</th>\n",
       "      <th>State Student Count</th>\n",
       "      <th>State Percentage of Total Students</th>\n",
       "    </tr>\n",
       "  </thead>\n",
       "  <tbody>\n",
       "    <tr>\n",
       "      <th>0</th>\n",
       "      <td>African American</td>\n",
       "      <td>43,116</td>\n",
       "      <td>22.20%</td>\n",
       "      <td>694,302</td>\n",
       "      <td>12.80%</td>\n",
       "    </tr>\n",
       "    <tr>\n",
       "      <th>1</th>\n",
       "      <td>Hispanic</td>\n",
       "      <td>120,330</td>\n",
       "      <td>61.80%</td>\n",
       "      <td>2,860,754</td>\n",
       "      <td>52.70%</td>\n",
       "    </tr>\n",
       "    <tr>\n",
       "      <th>2</th>\n",
       "      <td>White</td>\n",
       "      <td>18,840</td>\n",
       "      <td>9.70%</td>\n",
       "      <td>1,427,241</td>\n",
       "      <td>26.30%</td>\n",
       "    </tr>\n",
       "    <tr>\n",
       "      <th>3</th>\n",
       "      <td>American Indian</td>\n",
       "      <td>367</td>\n",
       "      <td>0.20%</td>\n",
       "      <td>18,028</td>\n",
       "      <td>0.30%</td>\n",
       "    </tr>\n",
       "    <tr>\n",
       "      <th>4</th>\n",
       "      <td>Asian</td>\n",
       "      <td>8,693</td>\n",
       "      <td>4.50%</td>\n",
       "      <td>261,788</td>\n",
       "      <td>4.80%</td>\n",
       "    </tr>\n",
       "  </tbody>\n",
       "</table>\n",
       "</div>"
      ],
      "text/plain": [
       "  Ethnic Distribution District Student Count  \\\n",
       "0    African American                 43,116   \n",
       "1            Hispanic                120,330   \n",
       "2               White                 18,840   \n",
       "3     American Indian                    367   \n",
       "4               Asian                  8,693   \n",
       "\n",
       "  District Percentage of Total Students State Student Count  \\\n",
       "0                                22.20%             694,302   \n",
       "1                                61.80%           2,860,754   \n",
       "2                                 9.70%           1,427,241   \n",
       "3                                 0.20%              18,028   \n",
       "4                                 4.50%             261,788   \n",
       "\n",
       "  State Percentage of Total Students  \n",
       "0                             12.80%  \n",
       "1                             52.70%  \n",
       "2                             26.30%  \n",
       "3                              0.30%  \n",
       "4                              4.80%  "
      ]
     },
     "execution_count": 19,
     "metadata": {},
     "output_type": "execute_result"
    }
   ],
   "source": [
    "Ethnicity_2122 = pd.read_csv(Ethnicity_2122)\n",
    "Ethnicity_2122.head()"
   ]
  },
  {
   "cell_type": "code",
   "execution_count": 20,
   "id": "0c22346b",
   "metadata": {
    "scrolled": true
   },
   "outputs": [
    {
     "data": {
      "text/plain": [
       "Ethnic Distribution                      object\n",
       "District Student Count                   object\n",
       "District Percentage of Total Students    object\n",
       "State Student Count                      object\n",
       "State Percentage of Total Students       object\n",
       "dtype: object"
      ]
     },
     "execution_count": 20,
     "metadata": {},
     "output_type": "execute_result"
    }
   ],
   "source": [
    "Ethnicity_2122.dtypes"
   ]
  },
  {
   "cell_type": "code",
   "execution_count": 24,
   "id": "3c99fe9a",
   "metadata": {},
   "outputs": [],
   "source": [
    "SPED_Retention_2122 = os.path.join(\"SPED_Retention_2122.csv\")"
   ]
  },
  {
   "cell_type": "code",
   "execution_count": 25,
   "id": "19aede9f",
   "metadata": {
    "scrolled": false
   },
   "outputs": [
    {
     "data": {
      "text/html": [
       "<div>\n",
       "<style scoped>\n",
       "    .dataframe tbody tr th:only-of-type {\n",
       "        vertical-align: middle;\n",
       "    }\n",
       "\n",
       "    .dataframe tbody tr th {\n",
       "        vertical-align: top;\n",
       "    }\n",
       "\n",
       "    .dataframe thead th {\n",
       "        text-align: right;\n",
       "    }\n",
       "</style>\n",
       "<table border=\"1\" class=\"dataframe\">\n",
       "  <thead>\n",
       "    <tr style=\"text-align: right;\">\n",
       "      <th></th>\n",
       "      <th>Student Information</th>\n",
       "      <th>District Non SPED Student Count</th>\n",
       "      <th>District Non SPED Percentage of Total Students</th>\n",
       "      <th>State SPED Student Count</th>\n",
       "      <th>State SPED Percentage of Total Students</th>\n",
       "    </tr>\n",
       "  </thead>\n",
       "  <tbody>\n",
       "    <tr>\n",
       "      <th>0</th>\n",
       "      <td>Kindergarten</td>\n",
       "      <td>1.10%</td>\n",
       "      <td>1.90%</td>\n",
       "      <td>4.10%</td>\n",
       "      <td>5.20%</td>\n",
       "    </tr>\n",
       "    <tr>\n",
       "      <th>1</th>\n",
       "      <td>Grade 1</td>\n",
       "      <td>6.90%</td>\n",
       "      <td>2.90%</td>\n",
       "      <td>7.10%</td>\n",
       "      <td>4.20%</td>\n",
       "    </tr>\n",
       "    <tr>\n",
       "      <th>2</th>\n",
       "      <td>Grade 2</td>\n",
       "      <td>4.90%</td>\n",
       "      <td>1.70%</td>\n",
       "      <td>5.10%</td>\n",
       "      <td>2.20%</td>\n",
       "    </tr>\n",
       "    <tr>\n",
       "      <th>3</th>\n",
       "      <td>Grade 3</td>\n",
       "      <td>2.60%</td>\n",
       "      <td>1.00%</td>\n",
       "      <td>2.70%</td>\n",
       "      <td>1.00%</td>\n",
       "    </tr>\n",
       "    <tr>\n",
       "      <th>4</th>\n",
       "      <td>Grade 4</td>\n",
       "      <td>2.00%</td>\n",
       "      <td>0.70%</td>\n",
       "      <td>1.30%</td>\n",
       "      <td>0.70%</td>\n",
       "    </tr>\n",
       "  </tbody>\n",
       "</table>\n",
       "</div>"
      ],
      "text/plain": [
       "  Student Information District Non SPED Student Count  \\\n",
       "0        Kindergarten                           1.10%   \n",
       "1             Grade 1                           6.90%   \n",
       "2             Grade 2                           4.90%   \n",
       "3             Grade 3                           2.60%   \n",
       "4             Grade 4                           2.00%   \n",
       "\n",
       "  District Non SPED Percentage of Total Students State SPED Student Count  \\\n",
       "0                                          1.90%                    4.10%   \n",
       "1                                          2.90%                    7.10%   \n",
       "2                                          1.70%                    5.10%   \n",
       "3                                          1.00%                    2.70%   \n",
       "4                                          0.70%                    1.30%   \n",
       "\n",
       "  State SPED Percentage of Total Students  \n",
       "0                                   5.20%  \n",
       "1                                   4.20%  \n",
       "2                                   2.20%  \n",
       "3                                   1.00%  \n",
       "4                                   0.70%  "
      ]
     },
     "execution_count": 25,
     "metadata": {},
     "output_type": "execute_result"
    }
   ],
   "source": [
    "SPED_Retention_2122 = pd.read_csv(SPED_Retention_2122)\n",
    "SPED_Retention_2122.head()"
   ]
  },
  {
   "cell_type": "code",
   "execution_count": 26,
   "id": "e2130668",
   "metadata": {},
   "outputs": [
    {
     "data": {
      "text/plain": [
       "Student Information                               object\n",
       "District Non SPED Student Count                   object\n",
       "District Non SPED Percentage of Total Students    object\n",
       "State SPED Student Count                          object\n",
       "State SPED Percentage of Total Students           object\n",
       "dtype: object"
      ]
     },
     "execution_count": 26,
     "metadata": {},
     "output_type": "execute_result"
    }
   ],
   "source": [
    "SPED_Retention_2122.dtypes"
   ]
  },
  {
   "cell_type": "code",
   "execution_count": null,
   "id": "118f4dff",
   "metadata": {},
   "outputs": [],
   "source": []
  },
  {
   "cell_type": "code",
   "execution_count": null,
   "id": "84245da7",
   "metadata": {},
   "outputs": [],
   "source": []
  },
  {
   "cell_type": "code",
   "execution_count": null,
   "id": "a85cd030",
   "metadata": {},
   "outputs": [],
   "source": []
  }
 ],
 "metadata": {
  "kernelspec": {
   "display_name": "PythonData",
   "language": "python",
   "name": "pythondata"
  },
  "language_info": {
   "codemirror_mode": {
    "name": "ipython",
    "version": 3
   },
   "file_extension": ".py",
   "mimetype": "text/x-python",
   "name": "python",
   "nbconvert_exporter": "python",
   "pygments_lexer": "ipython3",
   "version": "3.9.13"
  }
 },
 "nbformat": 4,
 "nbformat_minor": 5
}
