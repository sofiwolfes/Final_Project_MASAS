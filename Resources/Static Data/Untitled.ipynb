{
 "cells": [
  {
   "cell_type": "code",
   "execution_count": 8,
   "id": "ec9dd987",
   "metadata": {},
   "outputs": [],
   "source": [
    "#Import dependencies\n",
    "\n",
    "import numpy as np\n",
    "import pandas as pd\n",
    "from math import isnan\n",
    "from sklearn import preprocessing\n",
    "from sklearn.impute import KNNImputer, SimpleImputer\n",
    "from sklearn.linear_model import LinearRegression\n",
    "from sklearn.linear_model import LogisticRegression\n",
    "from sklearn.pipeline import make_pipeline\n",
    "from sklearn.preprocessing import StandardScaler\n",
    "import os\n"
   ]
  },
  {
   "cell_type": "code",
   "execution_count": null,
   "id": "e5d8f6ee",
   "metadata": {},
   "outputs": [],
   "source": [
    "#Creating a pandas DF to perform cleaning tasks\n",
    "input_paths=[r\"C:\\Users\\james\\OneDrive\\Columbia_Bootcamp\\Project_Deliverable_Week_1\\Final_Project_MASAS\\Resources\\Static Data\",\n",
    "            r\"C:\\Users\\zeels\\Desktop\\projects\\cleantech_solar\\raw\\[IN-023C]\\2019\\2019-01\\\\\"]"
   ]
  },
  {
   "cell_type": "code",
   "execution_count": 7,
   "id": "7990181b",
   "metadata": {},
   "outputs": [],
   "source": [
    "class MissingValues:\n",
    "    # Function for handling missing values in the data\n",
    "    def handle(df, missing_num='auto', missing_categ='auto', _n_neighbors=3):\n",
    "        count_missing = df.isna().sum().sum()\n",
    "        if count_missing != 0:\n",
    "            # drop rows containing only missing values\n",
    "            df = df.dropna(how='all')\n",
    "            df.reset_index(drop=True)\n",
    "            \n",
    "            if self.missing_num:\n",
    "                # automated handling of numerical missing values\n",
    "                if missing_num == 'auto':\n",
    "                    missing_num = 'linreg'\n",
    "                    lr = LinearRegression()\n",
    "                    df = MissingValues._lin_regression_impute(self, df, lr)\n",
    "                    missing_num = 'knn'\n",
    "                    imputer = KNNImputer(n_neighbors=_n_neighbors)\n",
    "                    df = MissingValues._impute(self, df, imputer, type='num')\n",
    "                # linear regression imputation\n",
    "                elif missing_num == 'linreg':\n",
    "                    lr = LinearRegression()\n",
    "                    df = MissingValues._lin_regression_impute(self, df, lr)\n",
    "                # knn imputation\n",
    "                elif missing_num == 'knn':\n",
    "                    imputer = KNNImputer(n_neighbors=_n_neighbors)\n",
    "                    df = MissingValues._impute(self, df, imputer, type='num')\n",
    "                # mean, median or mode imputation\n",
    "                elif missing_num in ['mean', 'median', 'most_frequent']:\n",
    "                    imputer = SimpleImputer(strategy=self.missing_num)\n",
    "                    df = MissingValues._impute_missing(self, df, imputer, type='num')\n",
    "                # delete missing values\n",
    "                elif missing_num == 'delete':\n",
    "                    df = MissingValues._delete(self, df, type='num')\n",
    "                   \n",
    "            if missing_categ:\n",
    "                ...\n",
    "        else:\n",
    "            pass\n",
    "        return df\n"
   ]
  },
  {
   "cell_type": "code",
   "execution_count": null,
   "id": "8f3d5315",
   "metadata": {},
   "outputs": [],
   "source": []
  }
 ],
 "metadata": {
  "kernelspec": {
   "display_name": "PythonData",
   "language": "python",
   "name": "pythondata"
  },
  "language_info": {
   "codemirror_mode": {
    "name": "ipython",
    "version": 3
   },
   "file_extension": ".py",
   "mimetype": "text/x-python",
   "name": "python",
   "nbconvert_exporter": "python",
   "pygments_lexer": "ipython3",
   "version": "3.7.13"
  }
 },
 "nbformat": 4,
 "nbformat_minor": 5
}
